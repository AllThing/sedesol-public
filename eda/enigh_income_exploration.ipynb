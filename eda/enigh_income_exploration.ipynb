{
 "cells": [
  {
   "cell_type": "code",
   "execution_count": 369,
   "metadata": {
    "collapsed": true
   },
   "outputs": [],
   "source": [
    "# Imports\n",
    "import pandas as pd  \n",
    "import numpy as np\n",
    "import matplotlib.pyplot as plt\n",
    "import seaborn as sns\n",
    "import pylab as pl\n",
    "sns.set_style('darkgrid')\n",
    "import math\n",
    "\n",
    "from sklearn.cross_validation import train_test_split  \n",
    "from sklearn.ensemble import RandomForestClassifier, ExtraTreesClassifier, ExtraTreesRegressor\n",
    "from sklearn.linear_model import LogisticRegression\n",
    "from sklearn.metrics import precision_recall_curve, confusion_matrix, accuracy_score  \n",
    "from sklearn.preprocessing import LabelEncoder\n",
    "from sklearn.metrics import mean_squared_error\n",
    "\n",
    "from sklearn.cross_validation import KFold, LabelKFold\n",
    "\n",
    "\n",
    "%matplotlib inline"
   ]
  },
  {
   "cell_type": "code",
   "execution_count": 3,
   "metadata": {
    "collapsed": true
   },
   "outputs": [],
   "source": [
    "#create table  semantic_underreport.expanded_enigh_subset_50k as\n",
    "#select * from semantic.expanded_enigh order by random() limit 50000;\n",
    "\n",
    "#load csv of semantic_underreport.expanded_enigh_subset_50k\n",
    "df = pd.read_csv('/Users/dolano/Desktop/expanded_enigh_subset_50k_201608150933.csv',thousands=\",\",low_memory=False)"
   ]
  },
  {
   "cell_type": "code",
   "execution_count": 394,
   "metadata": {
    "collapsed": false
   },
   "outputs": [],
   "source": [
    "#use features \n",
    "#from to transaction to concentradohogar_smg   ( excluding mes_dia )   -- not using locality_ids at all\n",
    "df_sub = df[[\"cantidad\",\"colegia\",\"costo\",\"fecha_adqu\",\"fecha_pago\",\"forma_pago\",\"frec_rem\",\"frecuencia\",\"gas_nm_tri\",\"gasto\",\"gasto_nm\",\"gasto_tri\",\"imujer_tri\",\"inmujer\",\"inscrip\",\"inst\",\"inst_1\",\"inst_2\",\"lugar_comp\",\"material\",\"num_meses\",\"num_pagos\",\"orga_inst\",\"pago_mp\",\"tipo_gasto\",\"ultim_pago\",\"mes_1\",\"mes_2\",\"mes_3\",\"mes_4\",\"mes_5\",\"mes_6\",\"ing_1\",\"ing_2\",\"ing_3\",\"ing_4\",\"ing_5\",\"ing_6\",\"ing_tri\",\"poblacion_parentesco\",\"poblacion_sexo\",\"poblacion_edad\",\"poblacion_madre_hog\",\"poblacion_madre_id\",\"poblacion_padre_hog\",\"poblacion_padre_id\",\"poblacion_disc1\",\"poblacion_disc2\",\"poblacion_disc3\",\"poblacion_disc4\",\"poblacion_disc5\",\"poblacion_disc6\",\"poblacion_disc7\",\"poblacion_causa1\",\"poblacion_causa2\",\"poblacion_causa3\",\"poblacion_causa4\",\"poblacion_causa5\",\"poblacion_causa6\",\"poblacion_causa7\",\"poblacion_hablaind\",\"poblacion_lenguaind\",\"poblacion_hablaesp\",\"poblacion_comprenind\",\"poblacion_etnia\",\"poblacion_alfabetism\",\"poblacion_asis_esc\",\"poblacion_nivel\",\"poblacion_grado\",\"poblacion_tipoesc\",\"poblacion_tiene_b\",\"poblacion_otorg_b\",\"poblacion_forma_b\",\"poblacion_tiene_c\",\"poblacion_otorg_c\",\"poblacion_forma_c\",\"poblacion_nivelaprob\",\"poblacion_gradoaprob\",\"poblacion_antec_esc\",\"poblacion_residencia\",\"poblacion_edo_conyug\",\"poblacion_pareja_hog\",\"poblacion_conyuge_id\",\"poblacion_segsoc\",\"poblacion_ss_aa\",\"poblacion_ss_mm\",\"poblacion_redsoc_1\",\"poblacion_redsoc_2\",\"poblacion_redsoc_3\",\"poblacion_redsoc_4\",\"poblacion_redsoc_5\",\"poblacion_redsoc_6\",\"poblacion_hor_1\",\"poblacion_min_1\",\"poblacion_usotiempo1\",\"poblacion_hor_2\",\"poblacion_min_2\",\"poblacion_usotiempo2\",\"poblacion_hor_3\",\"poblacion_min_3\",\"poblacion_usotiempo3\",\"poblacion_hor_4\",\"poblacion_min_4\",\"poblacion_usotiempo4\",\"poblacion_hor_5\",\n",
    "             \"poblacion_min_5\",\"poblacion_usotiempo5\",\"poblacion_hor_6\",\"poblacion_min_6\",\"poblacion_usotiempo6\",\"poblacion_hor_7\",\"poblacion_min_7\",\"poblacion_usotiempo7\",\"poblacion_hor_8\",\"poblacion_min_8\",\"poblacion_usotiempo8\",\"poblacion_segpop\",\"poblacion_atemed\",\"poblacion_inst_1\",\"poblacion_inst_2\",\"poblacion_inst_3\",\"poblacion_inst_4\",\"poblacion_inst_5\",\"poblacion_inscr_1\",\"poblacion_inscr_2\",\"poblacion_inscr_3\",\"poblacion_inscr_4\",\"poblacion_inscr_5\",\"poblacion_inscr_6\",\"poblacion_inscr_7\",\"poblacion_inscr_8\",\"poblacion_prob_anio\",\"poblacion_prob_mes\",\"poblacion_prob_sal\",\"poblacion_aten_sal\",\"poblacion_servmed_1\",\"poblacion_servmed_2\",\"poblacion_servmed_3\",\"poblacion_servmed_4\",\"poblacion_servmed_5\",\"poblacion_servmed_6\",\"poblacion_servmed_7\",\"poblacion_servmed_8\",\"poblacion_servmed_9\",\"poblacion_servmed_10\",\"poblacion_servmed_11\",\"poblacion_hh_lug\",\"poblacion_mm_lug\",\"poblacion_hh_esp\",\"poblacion_mm_esp\",\"poblacion_pagoaten_1\",\"poblacion_pagoaten_2\",\"poblacion_pagoaten_3\",\"poblacion_pagoaten_4\",\"poblacion_pagoaten_5\",\"poblacion_pagoaten_6\",\"poblacion_pagoaten_7\",\"poblacion_noatenc_1\",\"poblacion_noatenc_2\",\"poblacion_noatenc_3\",\"poblacion_noatenc_4\",\"poblacion_noatenc_5\",\"poblacion_noatenc_6\",\"poblacion_noatenc_7\",\"poblacion_noatenc_8\",\"poblacion_noatenc_9\",\"poblacion_noatenc_10\",\"poblacion_noatenc_11\",\"poblacion_noatenc_12\",\"poblacion_noatenc_13\",\"poblacion_noatenc_14\",\"poblacion_noatenc_15\",\"poblacion_noatenc_16\",\"poblacion_norecib_1\",\"poblacion_norecib_2\",\"poblacion_norecib_3\",\"poblacion_norecib_4\",\"poblacion_norecib_5\",\"poblacion_norecib_6\",\"poblacion_norecib_7\",\"poblacion_norecib_8\",\"poblacion_norecib_9\",\"poblacion_norecib_10\",\"poblacion_norecib_11\",\"poblacion_razon_1\",\"poblacion_razon_2\",\"poblacion_razon_3\",\n",
    "             \"poblacion_razon_4\",\"poblacion_razon_5\",\"poblacion_razon_6\",\"poblacion_razon_7\",\"poblacion_razon_8\",\"poblacion_razon_9\",\"poblacion_razon_10\",\"poblacion_razon_11\",\"poblacion_diabetes\",\"poblacion_pres_alta\",\"poblacion_peso\",\"poblacion_segvol_1\",\"poblacion_segvol_2\",\"poblacion_segvol_3\",\"poblacion_segvol_4\",\"poblacion_segvol_5\",\"poblacion_segvol_6\",\"poblacion_segvol_7\",\"poblacion_hijos_viv\",\"poblacion_hijos_mue\",\"poblacion_hijos_sob\",\"poblacion_trabajo_mp\",\"poblacion_motivo_aus\",\"poblacion_act_pnea1\",\"poblacion_act_pnea2\",\"poblacion_num_trabaj\",\"trabajos_id_trabajo\",\"trabajos_trapais\",\"trabajos_subor\",\"trabajos_indep\",\"trabajos_personal\",\"trabajos_pago\",\"trabajos_contrato\",\"trabajos_tipocontr\",\"trabajos_pres_1\",\"trabajos_pres_2\",\"trabajos_pres_3\",\"trabajos_pres_4\",\"trabajos_pres_5\",\"trabajos_pres_6\",\"trabajos_pres_7\",\"trabajos_pres_8\",\"trabajos_pres_9\",\"trabajos_pres_10\",\"trabajos_pres_11\",\"trabajos_pres_12\",\"trabajos_pres_13\",\"trabajos_pres_14\",\"trabajos_pres_15\",\"trabajos_pres_16\",\"trabajos_pres_17\",\"trabajos_pres_18\",\"trabajos_pres_19\",\"trabajos_pres_20\",\"trabajos_htrab\",\"trabajos_sinco\",\"trabajos_scian\",\"trabajos_clas_emp\",\"trabajos_tam_emp\",\"trabajos_no_ing\",\"trabajos_tiene_suel\",\"trabajos_tipoact\",\"trabajos_socios\",\"trabajos_soc_nr1\",\"trabajos_soc_nr2\",\"trabajos_soc_resp\",\"trabajos_otra_act\",\"trabajos_tipoact2\",\"trabajos_tipoact3\",\"trabajos_tipoact4\",\"trabajos_lugar\",\"trabajos_conf_pers\",\"trabajos_reg_not\",\"trabajos_reg_cont\",\"trabajos_com_fis\",\"vivi_tipo_viv\",\"vivi_ageb\",\"vivi_tam_loc\",\"vivi_mat_pared\",\"vivi_mat_techos\",\"vivi_mat_pisos\",\"vivi_antiguedad\",\"vivi_antigua_ne\",\"vivi_cocina\",\"vivi_cocina_dor\",\"vivi_cuart_dorm\",\"vivi_num_cuarto\",\"vivi_disp_agua\",\"vivi_dotac_agua\",\"vivi_excusado\",\"vivi_uso_compar\",\n",
    "             \"vivi_sanit_agua\",\"vivi_biodigest\",\"vivi_bano_comp\",\"vivi_bano_excus\",\"vivi_bano_regad\",\"vivi_drenaje\",\"vivi_disp_elect\",\"vivi_focos_inca\",\"vivi_focos_ahor\",\"vivi_combustible\",\"vivi_estufa_chi\",\"vivi_eli_basura\",\"vivi_tenencia\",\"vivi_renta\",\"vivi_estim_pago\",\"vivi_pago_viv\",\"vivi_pago_mesp\",\"vivi_tipo_adqui\",\"vivi_viv_usada\",\"vivi_tipo_finan\",\"vivi_num_dueno1\",\"vivi_hog_dueno1\",\"vivi_num_dueno2\",\"vivi_hog_dueno2\",\"vivi_escrituras\",\"vivi_lavadero\",\"vivi_fregadero\",\"vivi_regadera\",\"vivi_tinaco_azo\",\"vivi_cisterna\",\"vivi_pileta\",\"vivi_calent_sol\",\"vivi_calent_gas\",\"vivi_medidor_luz\",\"vivi_bomba_agua\",\"vivi_tanque_gas\",\"vivi_aire_acond\",\"vivi_calefacc\",\"vivi_tot_resid\",\"vivi_tot_hom\",\"vivi_tot_muj\",\"vivi_tot_hog\",\"vivi_est_socio\",\"vivi_est_dis\",\"vivi_upm\",\"vivi_factor_viv\",\"hogares_huespedes\",\"hogares_huesp_come\",\"hogares_num_trab_d\",\"hogares_trab_come\",\"hogares_acc_alim1\",\"hogares_acc_alim2\",\"hogares_acc_alim3\",\"hogares_acc_alim4\",\"hogares_acc_alim5\",\"hogares_acc_alim6\",\"hogares_acc_alim7\",\"hogares_acc_alim8\",\"hogares_acc_alim9\",\"hogares_acc_alim10\",\"hogares_acc_alim11\",\"hogares_acc_alim12\",\"hogares_acc_alim13\",\"hogares_acc_alim14\",\"hogares_acc_alim15\",\"hogares_acc_alim16\",\"hogares_alim17_1\",\"hogares_alim17_2\",\"hogares_alim17_3\",\"hogares_alim17_4\",\"hogares_alim17_5\",\"hogares_alim17_6\",\"hogares_alim17_7\",\"hogares_alim17_8\",\"hogares_alim17_9\",\"hogares_alim17_10\",\"hogares_alim17_11\",\"hogares_alim17_12\",\"hogares_acc_alim18\",\"hogares_telefono\",\"hogares_celular\",\"hogares_tv_paga\",\"hogares_conex_inte\",\"hogares_num_auto\",\"hogares_anio_auto\",\"hogares_num_van\",\"hogares_anio_van\",\"hogares_num_pickup\",\"hogares_anio_pickup\",\"hogares_num_moto\",\"hogares_anio_moto\",\"hogares_num_bici\",\"hogares_anio_bici\",\"hogares_num_trici\",\n",
    "             \"hogares_anio_trici\",\"hogares_num_carret\",\"hogares_anio_carret\",\"hogares_num_canoa\",\"hogares_anio_canoa\",\"hogares_num_otro\",\"hogares_anio_otro\",\"hogares_num_ester\",\"hogares_anio_ester\",\"hogares_num_grab\",\"hogares_anio_grab\",\"hogares_num_radio\",\"hogares_anio_radio\",\"hogares_num_tva\",\"hogares_anio_tva\",\"hogares_num_tvd\",\"hogares_anio_tvd\",\"hogares_num_dvd\",\"hogares_anio_dvd\",\"hogares_num_video\",\"hogares_anio_video\",\"hogares_num_licua\",\"hogares_anio_licua\",\"hogares_num_tosta\",\"hogares_anio_tosta\",\"hogares_num_micro\",\"hogares_anio_micro\",\"hogares_num_refri\",\"hogares_anio_refri\",\"hogares_num_estuf\",\"hogares_anio_estuf\",\"hogares_num_lavad\",\"hogares_anio_lavad\",\"hogares_num_planc\",\"hogares_anio_planc\",\"hogares_num_maqui\",\"hogares_anio_maqui\",\"hogares_num_venti\",\"hogares_anio_venti\",\"hogares_num_aspir\",\"hogares_anio_aspir\",\"hogares_num_compu\",\"hogares_anio_compu\",\"hogares_num_impre\",\"hogares_anio_impre\",\"hogares_num_juego\",\"hogares_anio_juego\",\"hogares_tsalud1_h\",\"hogares_tsalud1_m\",\"hogares_habito_1\",\"hogares_habito_2\",\"hogares_habito_3\",\"hogares_habito_4\",\"hogares_habito_5\",\"hogares_habito_6\",\"hogares_consumo\",\"hogares_nr_viv\",\"hogares_tarjeta\",\"hogares_pagotarjet\",\"hogares_regalotar\",\"hogares_regalodado\",\"hogares_autocons\",\"hogares_regalos\",\"hogares_remunera\",\"hogares_transferen\",\"hogares_parto_g\",\"hogares_embarazo_g\",\"hogares_negcua\",\"hogares_est_alim\",\"hogares_est_trans\",\"hogares_factor_hog\",\"concentradohogar_tam_loc\",\"concentradohogar_clase_hog\",\"concentradohogar_sexo_jefe\",\"concentradohogar_edad_jefe\",\"concentradohogar_educa_jefe\",\"concentradohogar_tot_integ\",\"concentradohogar_hombres\",\"concentradohogar_mujeres\",\"concentradohogar_mayores\",\"concentradohogar_menores\",\"concentradohogar_p12_64\",\"concentradohogar_p65mas\",\n",
    "             \"concentradohogar_ocupados\",\"concentradohogar_percep_ing\",\"concentradohogar_perc_ocupa\",\"concentradohogar_ing_cor\",\"concentradohogar_ingtrab\",\"concentradohogar_trabajo\",\"concentradohogar_sueldos\",\"concentradohogar_horas_extr\",\"concentradohogar_comisiones\",\"concentradohogar_aguinaldo\",\"concentradohogar_indemtrab\",\"concentradohogar_otra_rem\",\"concentradohogar_remu_espec\",\"concentradohogar_negocio\",\"concentradohogar_noagrop\",\"concentradohogar_industria\",\"concentradohogar_comercio\",\"concentradohogar_servicios\",\"concentradohogar_agrope\",\"concentradohogar_agricolas\",\"concentradohogar_pecuarios\",\"concentradohogar_reproducc\",\"concentradohogar_pesca\",\"concentradohogar_otros_trab\",\"concentradohogar_rentas\",\"concentradohogar_utilidad\",\"concentradohogar_arrenda\",\"concentradohogar_transfer\",\"concentradohogar_jubilacion\",\"concentradohogar_becas\",\"concentradohogar_donativos\",\"concentradohogar_remesas\",\"concentradohogar_bene_gob\",\"concentradohogar_transf_hog\",\"concentradohogar_trans_inst\",\"concentradohogar_estim_alqu\",\"concentradohogar_otros_ing\",\"concentradohogar_gasto_mon\",\"concentradohogar_alimentos\",\"concentradohogar_ali_dentro\",\"concentradohogar_cereales\",\"concentradohogar_carnes\",\"concentradohogar_pescado\",\"concentradohogar_leche\",\"concentradohogar_huevo\",\"concentradohogar_aceites\",\"concentradohogar_tuberculo\",\"concentradohogar_verduras\",\"concentradohogar_frutas\",\"concentradohogar_azucar\",\"concentradohogar_cafe\",\"concentradohogar_especias\",\"concentradohogar_otros_alim\",\"concentradohogar_bebidas\",\"concentradohogar_ali_fuera\",\"concentradohogar_tabaco\",\"concentradohogar_vesti_calz\",\"concentradohogar_vestido\",\"concentradohogar_calzado\",\"concentradohogar_vivienda\",\"concentradohogar_alquiler\",\"concentradohogar_pred_cons\",\n",
    "             \"concentradohogar_agua\",\"concentradohogar_energia\",\"concentradohogar_limpieza\",\"concentradohogar_cuidados\",\"concentradohogar_utensilios\",\"concentradohogar_enseres\",\"concentradohogar_salud\",\"concentradohogar_atenc_ambu\",\"concentradohogar_hospital\",\"concentradohogar_medicinas\",\"concentradohogar_transporte\",\"concentradohogar_publico\",\"concentradohogar_foraneo\",\"concentradohogar_adqui_vehi\",\"concentradohogar_mantenim\",\"concentradohogar_refaccion\",\"concentradohogar_combus\",\"concentradohogar_comunica\",\"concentradohogar_educa_espa\",\"concentradohogar_educacion\",\"concentradohogar_esparci\",\"concentradohogar_paq_turist\",\"concentradohogar_personales\",\"concentradohogar_cuida_pers\",\"concentradohogar_acces_pers\",\"concentradohogar_otros_gas\",\"concentradohogar_transf_gas\",\"concentradohogar_percep_tot\",\"concentradohogar_retiro_inv\",\"concentradohogar_prestamos\",\"concentradohogar_otras_perc\",\"concentradohogar_ero_nm_viv\",\"concentradohogar_ero_nm_hog\",\"concentradohogar_erogac_tot\",\"concentradohogar_cuota_viv\",\"concentradohogar_mater_serv\",\"concentradohogar_material\",\"concentradohogar_servicio\",\"concentradohogar_deposito\",\"concentradohogar_prest_terc\",\"concentradohogar_pago_tarje\",\"concentradohogar_deudas\",\"concentradohogar_balance\",\"concentradohogar_otras_erog\",\"concentradohogar_smg\"]]\n",
    "\n",
    "\n",
    "#df.shape  #50,000 x 712\n",
    "#df_sub.shape  #50,000 x 563"
   ]
  },
  {
   "cell_type": "code",
   "execution_count": 423,
   "metadata": {
    "collapsed": false
   },
   "outputs": [],
   "source": [
    "#df_sub.dtypes\n",
    "#df_sub.head()"
   ]
  },
  {
   "cell_type": "code",
   "execution_count": 396,
   "metadata": {
    "collapsed": false
   },
   "outputs": [],
   "source": [
    "#df_sub.dtypes.describe()\n",
    "#df_sub.dtypes[df_sub.dtypes == 'int64'].size   #total: 563,  object: 271,  float64: 174, int64: 118\n",
    "#df_sub['cantidad'].isnull().values.any() \n",
    "#c = df_sub['cantidad']\n",
    "#c.head()"
   ]
  },
  {
   "cell_type": "code",
   "execution_count": 397,
   "metadata": {
    "collapsed": false
   },
   "outputs": [],
   "source": [
    "#no need to onehot encode all features since most features columns in db table are already expanded.\n",
    "\n",
    "#TODO: just need to onehot encode for the following:\n",
    "should_be_cats = [\"tipo_gasto\",\"hogares_anio_auto\",\"hogares_num_van\",\"hogares_anio_van\",\"hogares_num_pickup\",\"hogares_anio_pickup\",\"hogares_num_moto\",\"hogares_anio_moto\",\"hogares_num_bici\",\"hogares_anio_bici\",\"hogares_num_trici\",\"hogares_anio_trici\",\"hogares_num_carret\",\"hogares_anio_carret\",\"hogares_num_canoa\",\"hogares_anio_canoa\",\"hogares_num_otro\",\"hogares_anio_otro\",\"hogares_num_ester\",\"hogares_anio_ester\",\"hogares_num_grab\",\"hogares_anio_grab\",\"hogares_num_radio\",\"hogares_anio_radio\",\"hogares_num_tva\",\"hogares_anio_tva\",\"hogares_num_tvd\",\"hogares_anio_tvd\",\"hogares_num_dvd\",\"hogares_anio_dvd\",\"hogares_num_video\",\"hogares_anio_video\",\"hogares_num_licua\",\"hogares_anio_licua\",\"hogares_num_tosta\",\"hogares_anio_tosta\",\"hogares_num_micro\",\"hogares_anio_micro\",\"hogares_num_refri\",\"hogares_anio_refri\",\"hogares_num_estuf\",\"hogares_anio_estuf\",\"hogares_num_lavad\",\"hogares_anio_lavad\",\"hogares_num_planc\",\"hogares_anio_planc\",\"hogares_num_maqui\",\"hogares_anio_maqui\",\"hogares_num_venti\",\"hogares_anio_venti\",\"hogares_num_aspir\",\"hogares_anio_aspir\",\"hogares_num_compu\",\"hogares_anio_compu\",\"hogares_num_impre\",\"hogares_anio_impre\",\"hogares_num_juego\",\"hogares_anio_juego\",\"hogares_tsalud1_h\",\"hogares_tsalud1_m\"]\n",
    "\n",
    "#for now remove them\n",
    "df_sub = df_sub.drop(should_be_cats, axis=1)\n",
    "\n",
    "#don't include categorical variables with too many levels\n",
    "cats_with_too_many_levels = ['vivi_ageb']\n",
    "df_sub = df_sub.drop(cats_with_too_many_levels, axis=1)\n",
    "\n",
    "#also having issues with the following columns so drop them for now\n",
    "weird_cols = [\"poblacion_madre_id\",\"poblacion_padre_id\",\"poblacion_disc1\",\"poblacion_causa1\",\"poblacion_conyuge_id\",\"poblacion_prob_anio\",\"poblacion_prob_mes\"]\n",
    "df_sub = df_sub.drop(weird_cols, axis=1)\n",
    "\n",
    "#also drop mostly null columns\n",
    "mostly_null = [\"inst\",\"poblacion_disc7\",\"poblacion_causa7\",\"poblacion_noatenc_7\",\"poblacion_norecib_6\",\"poblacion_norecib_7\",\"poblacion_norecib_9\",\"poblacion_norecib_10\",\"poblacion_razon_1\",\"poblacion_razon_2\",\"poblacion_razon_10\",\"trabajos_tipoact4\"]\n",
    "df_sub = df_sub.drop(mostly_null, axis=1)"
   ]
  },
  {
   "cell_type": "code",
   "execution_count": 398,
   "metadata": {
    "collapsed": false
   },
   "outputs": [],
   "source": [
    "#impute nulls for int/cat columns\n",
    "to_delete = []\n",
    "for c in df_sub.columns:\n",
    "    if df_sub[c].dtypes == 'float64' or df_sub[c].dtypes == 'int64':\n",
    "        if df_sub[c].isnull().values.any():\n",
    "            median = df_sub[c].median()        \n",
    "            try:\n",
    "                median = float(median)\n",
    "                df_sub[c] = df_sub[c].fillna(median)\n",
    "                df_sub[c] = df_sub[c].astype(\"float64\")\n",
    "                #print(\"Numeric Column: \",c,\" with some nulls filled with \",median)\n",
    "            except:\n",
    "                print(\"Error with \",c)\n",
    "                print(median)\n",
    "        else:\n",
    "            #print(\"Non-null Numeric Column: \",c)\n",
    "            df_sub[c] = df_sub[c].astype(\"float64\")        \n",
    "    else:\n",
    "        \n",
    "        if df_sub[c].isnull().values.all():\n",
    "            print(c, \"is all null\")\n",
    "            to_delete.append(c)  \n",
    "        elif df_sub[c].isnull().values.any():             \n",
    "            try:\n",
    "                frequent = df_sub[c].astype('category').describe().top\n",
    "                \n",
    "                if frequent == \"\" or frequent == None or frequent == \" \": # or len(frequent) == 0:                    \n",
    "                    #if we see this we should treat the column as an integer thing and see what happens first\n",
    "                    df_sub[c] = df_sub[c].apply(lambda x: None if x == \"\" or x == None or x == \" \" else float(x)) \n",
    "                    df_sub[c] = df_sub[c].astype(\"float64\")\n",
    "                    median = df_sub[c].median() \n",
    "                    df_sub[c] = df_sub[c].fillna(median)                    \n",
    "                    #print(\"Cat/Bin to Numeric Column: \",c,\" with some nulls filled with median \",median)                    \n",
    "                else:                    \n",
    "                    frequent = float(frequent)                \n",
    "                    df_sub[c] = df_sub[c].apply(lambda x: None if x == \"\" or x == None or x == \" \" else float(x))                \n",
    "                    df_sub[c] = df_sub[c].fillna(frequent)\n",
    "                    df_sub[c] = df_sub[c].astype(\"float64\")\n",
    "                    #print(\"Cat/Bin to Numeric Column: \",c,\" with some nulls filled with frequent \",frequent)\n",
    "            except:\n",
    "                print(\"Error with \",c)\n",
    "        else:\n",
    "            #print(\"Cat/Bin Column with no nulls: \",c)\n",
    "            #vivi_tipo_viv has '&' as a value so map it to Nan ( should I use np.nan or None)\n",
    "            df_sub[c] = df_sub[c].apply(lambda x: None if x == \"\" or x == None or x == \" \" or x == \"&\" else float(x))\n",
    "            \n",
    "            if df_sub[c].isnull().values.any(): \n",
    "                try:\n",
    "                    frequent = df_sub[c].astype('category').describe().top\n",
    "                    if frequent == \"\" or frequent == None or frequent == \" \": # or len(frequent) == 0:                    \n",
    "                        #if we see this we should treat the column as an integer thing and see what happens first\n",
    "                        df_sub[c] = df_sub[c].apply(lambda x: None if x == \"\" or x == None or x == \" \" else float(x)) \n",
    "                        df_sub[c] = df_sub[c].astype(\"float64\")\n",
    "                        median = df_sub[c].median() \n",
    "                        df_sub[c] = df_sub[c].fillna(median)                    \n",
    "                        #print(\"--after lambda Cat/Bin to Numeric Column: \",c,\" with some nulls filled with median \",median)                    \n",
    "                    else:                    \n",
    "                        frequent = float(frequent)                \n",
    "                        df_sub[c] = df_sub[c].apply(lambda x: None if x == \"\" or x == None or x == \" \" else float(x))                \n",
    "                        df_sub[c] = df_sub[c].fillna(frequent)\n",
    "                        df_sub[c] = df_sub[c].astype(\"float64\")\n",
    "                        #print(\"-- after lambda Cat/Bin to Numeric Column: \",c,\" with some nulls filled with frequent \",frequent)\n",
    "                except:\n",
    "                    print(\"Error with \",c)\n",
    "            else:\n",
    "                df_sub[c] = df_sub[c].astype(\"float64\")\n",
    "        "
   ]
  },
  {
   "cell_type": "code",
   "execution_count": 399,
   "metadata": {
    "collapsed": false
   },
   "outputs": [
    {
     "data": {
      "text/plain": [
       "count         482\n",
       "unique          1\n",
       "top       float64\n",
       "freq          482\n",
       "dtype: object"
      ]
     },
     "execution_count": 399,
     "metadata": {},
     "output_type": "execute_result"
    }
   ],
   "source": [
    "df_sub.dtypes.describe()\n",
    "#df_sub.dtypes.unique()\n",
    "#df_sub[df_sub.columns[df_sub.dtypes == 'O']]"
   ]
  },
  {
   "cell_type": "code",
   "execution_count": 400,
   "metadata": {
    "collapsed": false
   },
   "outputs": [],
   "source": [
    "#construct response they use\n",
    "#ln ( concentradohogar_ing_cor - concentradohogar_transfer - concentradohogar_bene_gob - concentradohogar_rentas )\n",
    "\n",
    "expenses = df['concentradohogar_transfer'] - df['concentradohogar_bene_gob'] - df['concentradohogar_rentas']\n",
    "df_sub['log_income_response'] = df['concentradohogar_ing_cor'] - expenses\n",
    "\n",
    "#df['log_income_response'].isnull().values.any()  #false... so there are NO NULL RESPONSES\n",
    "#df[df['log_income_response'] == 0].shape  #192 x 712...    but there are RESPONSES OF 0 which will explode things\n",
    "#print(df_sub[df_sub['log_income_response'] == 0].head())      #these rows are non null so impute tiny value\n",
    "\n",
    "\n",
    "#IMPUTE ZEROS TO .000000001   so things don't explod for now\n",
    "#df_sub[df_sub['log_income_response'] == 0]['log_income_response'].apply(lambda x: .01)\n",
    "df_sub['log_income_response'] = df_sub['log_income_response'].apply(lambda x: x if x != 0 else .0000001)\n",
    "\n",
    "#print(df_sub[df_sub['log_income_response'] == .0000001].head())\n",
    "#print(df_sub[df_sub['log_income_response'] == 0].shape)\n",
    "\n",
    "#df_sub['log_income_response'] = df_sub['log_income_response'].apply(math.log)  #try with no log for now"
   ]
  },
  {
   "cell_type": "code",
   "execution_count": 401,
   "metadata": {
    "collapsed": false
   },
   "outputs": [],
   "source": [
    "#df_sub[df_sub['log_income_response'] == .00000001].head()\n",
    "#df_sub[df_sub['log_income_response'] == 0]['log_income_response'] = -.01\n",
    "#df_sub[df_sub['log_income_response'] == 0]['log_income_response'].apply(lambda x: .01)"
   ]
  },
  {
   "cell_type": "code",
   "execution_count": 402,
   "metadata": {
    "collapsed": false
   },
   "outputs": [],
   "source": [
    "#CATEGORICALS TO HANDLE OR REMOVE\n",
    "#df_sub[df_sub.columns[560:580]].head()   # REMOVE: transfer_type (748 total), vivi_ageb (1797), \n",
    "                                          # tipo_gasto (8), , all the hogares from hogares_anio_auto to hogares_tsalut1_h\n",
    "                                       \n",
    "#should_be_cats = [\"tipo_gasto\",\"hogares_anio_auto\",\"hogares_num_van\",\"hogares_anio_van\",\"hogares_num_pickup\",\"hogares_anio_pickup\",\"hogares_num_moto\",\"hogares_anio_moto\",\"hogares_num_bici\",\"hogares_anio_bici\",\"hogares_num_trici\",\"hogares_anio_trici\",\"hogares_num_carret\",\"hogares_anio_carret\",\"hogares_num_canoa\",\"hogares_anio_canoa\",\"hogares_num_otro\",\"hogares_anio_otro\",\"hogares_num_ester\",\"hogares_anio_ester\",\"hogares_num_grab\",\"hogares_anio_grab\",\"hogares_num_radio\",\"hogares_anio_radio\",\"hogares_num_tva\",\"hogares_anio_tva\",\"hogares_num_tvd\",\"hogares_anio_tvd\",\"hogares_num_dvd\",\"hogares_anio_dvd\",\"hogares_num_video\",\"hogares_anio_video\",\"hogares_num_licua\",\"hogares_anio_licua\",\"hogares_num_tosta\",\"hogares_anio_tosta\",\"hogares_num_micro\",\"hogares_anio_micro\",\"hogares_num_refri\",\"hogares_anio_refri\",\"hogares_num_estuf\",\"hogares_anio_estuf\",\"hogares_num_lavad\",\"hogares_anio_lavad\",\"hogares_num_planc\",\"hogares_anio_planc\",\"hogares_num_maqui\",\"hogares_anio_maqui\",\"hogares_num_venti\",\"hogares_anio_venti\",\"hogares_num_aspir\",\"hogares_anio_aspir\",\"hogares_num_compu\",\"hogares_anio_compu\",\"hogares_num_impre\",\"hogares_anio_impre\",\"hogares_num_juego\",\"hogares_anio_juego\",\"hogares_tsalud1_h\",\"hogares_tsalud1_m\"]\n"
   ]
  },
  {
   "cell_type": "code",
   "execution_count": 420,
   "metadata": {
    "collapsed": false
   },
   "outputs": [],
   "source": [
    "#DO ML WITH EXTRATREES 50\n",
    "#clf = ExtraTreesClassifier(n_estimators=50)\n",
    "clf = ExtraTreesRegressor(n_estimators=50)\n",
    "test_size_percent = 0.1\n",
    "\n",
    "#signals = df_sub.drop(['log_income_response'], axis=1)\n",
    "#labels = df_sub['log_income_response']\n",
    "\n",
    "signals = df_sub[df['cv_index'] == 0]\n",
    "labels = df_sub[df['cv_index'] == 0]['log_income_response']\n",
    "exp_split = df[df['cv_index'] == 0]['folioviv'] #.astype('category')\n",
    "\n",
    "\n",
    "#THERE IS A BUG HERE WITH EXP_SPLIT.  I thought it would \n",
    "\n",
    "#kfolds = 2\n",
    "#klabels = df[\"folioviv\"].values\n"
   ]
  },
  {
   "cell_type": "code",
   "execution_count": 416,
   "metadata": {
    "collapsed": false
   },
   "outputs": [
    {
     "data": {
      "text/plain": [
       "count     24933\n",
       "unique       13\n",
       "top           1\n",
       "freq      11688\n",
       "Name: expansion_ix, dtype: int64"
      ]
     },
     "execution_count": 416,
     "metadata": {},
     "output_type": "execute_result"
    }
   ],
   "source": [
    "#cv_iterator = LabelKFold(klabels, kfolds)\n",
    "#exp_split.describe()"
   ]
  },
  {
   "cell_type": "code",
   "execution_count": 421,
   "metadata": {
    "collapsed": false
   },
   "outputs": [
    {
     "name": "stdout",
     "output_type": "stream",
     "text": [
      "Any nulls in matrix:  False\n"
     ]
    }
   ],
   "source": [
    "print(\"Any nulls in matrix: \",df_sub.isnull().values.any()) #True\n",
    "for c in df_sub.columns:\n",
    "    if df_sub[c].isnull().values.any():\n",
    "        print(c, \"has null values!\")"
   ]
  },
  {
   "cell_type": "code",
   "execution_count": 422,
   "metadata": {
    "collapsed": false
   },
   "outputs": [
    {
     "ename": "ValueError",
     "evalue": "The least populated class in y has only 1 member, which is too few. The minimum number of labels for any class cannot be less than 2.",
     "output_type": "error",
     "traceback": [
      "\u001b[0;31m---------------------------------------------------------------------------\u001b[0m",
      "\u001b[0;31mValueError\u001b[0m                                Traceback (most recent call last)",
      "\u001b[0;32m<ipython-input-422-2fbbf1f04d45>\u001b[0m in \u001b[0;36m<module>\u001b[0;34m()\u001b[0m\n\u001b[0;32m----> 1\u001b[0;31m \u001b[0mtrain_signals\u001b[0m\u001b[0;34m,\u001b[0m \u001b[0mtest_signals\u001b[0m\u001b[0;34m,\u001b[0m \u001b[0mtrain_labels\u001b[0m\u001b[0;34m,\u001b[0m \u001b[0mtest_labels\u001b[0m \u001b[0;34m=\u001b[0m \u001b[0mtrain_test_split\u001b[0m\u001b[0;34m(\u001b[0m\u001b[0msignals\u001b[0m\u001b[0;34m,\u001b[0m \u001b[0mlabels\u001b[0m\u001b[0;34m,\u001b[0m \u001b[0mtest_size\u001b[0m\u001b[0;34m=\u001b[0m\u001b[0mtest_size_percent\u001b[0m\u001b[0;34m,\u001b[0m \u001b[0mstratify\u001b[0m\u001b[0;34m=\u001b[0m\u001b[0mexp_split\u001b[0m\u001b[0;34m)\u001b[0m\u001b[0;34m\u001b[0m\u001b[0m\n\u001b[0m\u001b[1;32m      2\u001b[0m \u001b[0mrf_clf\u001b[0m \u001b[0;34m=\u001b[0m \u001b[0mclf\u001b[0m\u001b[0;34m.\u001b[0m\u001b[0mfit\u001b[0m\u001b[0;34m(\u001b[0m\u001b[0mtrain_signals\u001b[0m\u001b[0;34m,\u001b[0m \u001b[0mtrain_labels\u001b[0m\u001b[0;34m)\u001b[0m\u001b[0;34m\u001b[0m\u001b[0m\n",
      "\u001b[0;32m//anaconda/lib/python3.5/site-packages/sklearn/cross_validation.py\u001b[0m in \u001b[0;36mtrain_test_split\u001b[0;34m(*arrays, **options)\u001b[0m\n\u001b[1;32m   1908\u001b[0m         cv = StratifiedShuffleSplit(stratify, test_size=test_size,\n\u001b[1;32m   1909\u001b[0m                                     \u001b[0mtrain_size\u001b[0m\u001b[0;34m=\u001b[0m\u001b[0mtrain_size\u001b[0m\u001b[0;34m,\u001b[0m\u001b[0;34m\u001b[0m\u001b[0m\n\u001b[0;32m-> 1910\u001b[0;31m                                     random_state=random_state)\n\u001b[0m\u001b[1;32m   1911\u001b[0m     \u001b[0;32melse\u001b[0m\u001b[0;34m:\u001b[0m\u001b[0;34m\u001b[0m\u001b[0m\n\u001b[1;32m   1912\u001b[0m         \u001b[0mn_samples\u001b[0m \u001b[0;34m=\u001b[0m \u001b[0m_num_samples\u001b[0m\u001b[0;34m(\u001b[0m\u001b[0marrays\u001b[0m\u001b[0;34m[\u001b[0m\u001b[0;36m0\u001b[0m\u001b[0;34m]\u001b[0m\u001b[0;34m)\u001b[0m\u001b[0;34m\u001b[0m\u001b[0m\n",
      "\u001b[0;32m//anaconda/lib/python3.5/site-packages/sklearn/cross_validation.py\u001b[0m in \u001b[0;36m__init__\u001b[0;34m(self, y, n_iter, test_size, train_size, random_state)\u001b[0m\n\u001b[1;32m    960\u001b[0m \u001b[0;34m\u001b[0m\u001b[0m\n\u001b[1;32m    961\u001b[0m         \u001b[0;32mif\u001b[0m \u001b[0mnp\u001b[0m\u001b[0;34m.\u001b[0m\u001b[0mmin\u001b[0m\u001b[0;34m(\u001b[0m\u001b[0mbincount\u001b[0m\u001b[0;34m(\u001b[0m\u001b[0mself\u001b[0m\u001b[0;34m.\u001b[0m\u001b[0my_indices\u001b[0m\u001b[0;34m)\u001b[0m\u001b[0;34m)\u001b[0m \u001b[0;34m<\u001b[0m \u001b[0;36m2\u001b[0m\u001b[0;34m:\u001b[0m\u001b[0;34m\u001b[0m\u001b[0m\n\u001b[0;32m--> 962\u001b[0;31m             raise ValueError(\"The least populated class in y has only 1\"\n\u001b[0m\u001b[1;32m    963\u001b[0m                              \u001b[0;34m\" member, which is too few. The minimum\"\u001b[0m\u001b[0;34m\u001b[0m\u001b[0m\n\u001b[1;32m    964\u001b[0m                              \u001b[0;34m\" number of labels for any class cannot\"\u001b[0m\u001b[0;34m\u001b[0m\u001b[0m\n",
      "\u001b[0;31mValueError\u001b[0m: The least populated class in y has only 1 member, which is too few. The minimum number of labels for any class cannot be less than 2."
     ]
    }
   ],
   "source": [
    "train_signals, test_signals, train_labels, test_labels = train_test_split(signals, labels, test_size=test_size_percent, stratify=exp_split)  \n",
    "rf_clf = clf.fit(train_signals, train_labels)  "
   ]
  },
  {
   "cell_type": "code",
   "execution_count": 408,
   "metadata": {
    "collapsed": true
   },
   "outputs": [],
   "source": [
    "#predictions = rf_clf.predict_proba(test_signals)[:,1]  \n",
    "predictions = rf_clf.predict(test_signals)"
   ]
  },
  {
   "cell_type": "code",
   "execution_count": 424,
   "metadata": {
    "collapsed": false
   },
   "outputs": [],
   "source": [
    "#signals.head()"
   ]
  },
  {
   "cell_type": "code",
   "execution_count": 426,
   "metadata": {
    "collapsed": false
   },
   "outputs": [],
   "source": [
    "#print(\"TESTING labels: \",test_labels[0:20].values)\n",
    "#print(\"PREDICTION labels: \",predictions[0:20])\n",
    "\n",
    "#get R2 and plot \n",
    "#rf_clf.score(test_signals, test_labels)\n",
    "#plt.plot(test_labels,predictions)"
   ]
  },
  {
   "cell_type": "code",
   "execution_count": 427,
   "metadata": {
    "collapsed": false
   },
   "outputs": [],
   "source": [
    "#test_labels.describe()  #-16 to 15, mean 9.54, min: -16, 25%: 9, 50%: 10, 75%: 10\n",
    "#test_labels.median()   \n",
    "\n",
    "#df['concentradohogar_ing_cor'].describe()  #mean: 43400, min 0, 25%: 18236, 50%: 29792, 75%: 49799\n",
    "#df_sub['log_income_response'].describe()    #mean: 10.04, min -16.11, 25% 9.6, 50%: 10.17, 75%: 10.71\n",
    "\n",
    "#USE LOG(POVERTY LINE) TO DETERMINE WHO IS IN POVERTY/NOT (in test labels and predictions)\n",
    "#math.log(1300)  #7.17\n",
    "#math.log(1500)   #7.313\n",
    "\n",
    "#test_labels[test_labels < math.log(1500)].shape   #33\n",
    "#df[df['concentradohogar_ing_cor'] < math.log(1500)].shape #712\n",
    "\n",
    "#df['concentradohogar_ing_cor'].plot(kind=\"density\")"
   ]
  },
  {
   "cell_type": "code",
   "execution_count": 314,
   "metadata": {
    "collapsed": false
   },
   "outputs": [
    {
     "data": {
      "text/plain": [
       "18236.0"
      ]
     },
     "execution_count": 314,
     "metadata": {},
     "output_type": "execute_result"
    }
   ],
   "source": [
    "1.823600e+04"
   ]
  },
  {
   "cell_type": "code",
   "execution_count": 303,
   "metadata": {
    "collapsed": true
   },
   "outputs": [],
   "source": [
    "#PLOT PRES/RECALL\n",
    "def plot_pres_recall(y_true,y_score,model_type,savepath):\n",
    "    #y_true = test_labels\n",
    "    #y_score = predictions\n",
    "    rmse = mean_squared_error(y_true, y_score)\n",
    "\n",
    "    model_name = \"%s with 50 trees (RMSE: %s) using 136 features on subset of 50k out of 400k rows\" % (model_type, rmse)\n",
    "    featset = 1\n",
    "\n",
    "    precision_curve, recall_curve, pr_thresholds = precision_recall_curve(y_true, y_score)\n",
    "    precision_curve = precision_curve[:-1]\n",
    "    recall_curve = recall_curve[:-1]\n",
    "    pct_above_per_thresh = []\n",
    "    number_scored = len(y_score)\n",
    "    for value in pr_thresholds:\n",
    "        num_above_thresh = len(y_score[y_score>=value])\n",
    "        pct_above_thresh = num_above_thresh / float(number_scored)\n",
    "        pct_above_per_thresh.append(pct_above_thresh)\n",
    "    pct_above_per_thresh = np.array(pct_above_per_thresh)\n",
    "\n",
    "    plt.clf()\n",
    "    fig, ax1 = plt.subplots()\n",
    "    ax1.plot(pct_above_per_thresh, precision_curve, 'b')\n",
    "    ax1.set_xlabel('percent of population')\n",
    "    ax1.set_ylabel('precision', color='b')\n",
    "\n",
    "    ax2 = ax1.twinx()\n",
    "    ax2.plot(pct_above_per_thresh, recall_curve, 'r')\n",
    "    ax2.set_ylabel('recall', color='r')\n",
    "\n",
    "    name = model_name\n",
    "    saveto = \"%s/precision_recall_%s_with_50est_featset%s_y_has_discrepancy\" % (savepath,model_type,featset)\n",
    "    plt.title(name)\n",
    "    fig.set_size_inches(18.5, 10.5, forward=True)\n",
    "    fig.savefig(saveto, dpi=100 )\n",
    "    plt.show()\n",
    "    plt.close()"
   ]
  },
  {
   "cell_type": "code",
   "execution_count": 428,
   "metadata": {
    "collapsed": false
   },
   "outputs": [],
   "source": [
    "plot_pres_recall(test_labels,predictions,\"extratrees\",\"/Users/dolano/desktop/income_est/\")"
   ]
  },
  {
   "cell_type": "code",
   "execution_count": null,
   "metadata": {
    "collapsed": true
   },
   "outputs": [],
   "source": [
    "def plot_feature_importances(clf,model_type,savepath)\n",
    "    #PRINT OUT TOP 40 FEATURE IMPORTNANCES\n",
    "    importances = clf.feature_importances_\n",
    "    std = np.std([tree.feature_importances_ for tree in clf.estimators_], axis=0)\n",
    "    indices = np.argsort(importances)[::-1]\n",
    "\n",
    "    # Print the feature ranking\n",
    "    print(\"Feature ranking: (sorted by importance)\")\n",
    "\n",
    "    top40 = []\n",
    "    i = 1\n",
    "    for f in indices:\n",
    "        if i < 40:\n",
    "            print(\"%d. %s [col: %d] (%f)\" % (i, signals.columns[f], f, importances[f]))\n",
    "            top40.append(signals.columns[f])\n",
    "        i = i + 1\n",
    "\n",
    "    #PLOT FEATURE IMPORTNACES\n",
    "    signals_sorted = signals[indices]    \n",
    "    signals_sorted_top30 = signals_sorted[signals_sorted.columns[1:30]]\n",
    "    featset = 1\n",
    "    \n",
    "    # Plot the feature importances of the forest\n",
    "    plt.clf()\n",
    "    fig, ax1 = plt.subplots()\n",
    "\n",
    "    plt.title(\"Feature importances\")\n",
    "    xnames = [a[0:20] for a in signals.columns[indices[0:31]] ]\n",
    "\n",
    "    plt.bar(range(signals_sorted_top30.shape[1]), importances[indices][0:29], color=\"b\", align=\"center\")\n",
    "    plt.xticks(range(signals_sorted_top30.shape[1]), xnames, rotation=90, fontsize=14)\n",
    "    plt.xlim([-1, signals_sorted_top30.shape[1]])\n",
    "\n",
    "    saveto = \"%s/feature_importances_%s_with_50est_featset%s_y_has_discrepancy\" % (savepath,model_type,featset)\n",
    "    fig.set_size_inches(18.5, 18.5, forward=True)\n",
    "    fig.savefig(saveto, dpi=100 )\n",
    "    plt.show()\n",
    "    return top40"
   ]
  },
  {
   "cell_type": "code",
   "execution_count": null,
   "metadata": {
    "collapsed": true
   },
   "outputs": [],
   "source": [
    "top40 = plot_feature_importances(clf,\"extratrees\",\"/Users/dolano/desktop/income_est/\")"
   ]
  },
  {
   "cell_type": "code",
   "execution_count": 130,
   "metadata": {
    "collapsed": false
   },
   "outputs": [],
   "source": [
    "def plot_important_features_against_response(top40,df_sub,response_col,savepath):\n",
    "    #ONLY FOR PLOTTING IMPORTANT FEATURES AGAINST RESPONSE\n",
    "    from matplotlib.backends.backend_pdf import PdfPages\n",
    "    imp_features = top40    \n",
    "    plt.clf()\n",
    "    \n",
    "    saveto = \"%s/var_importance_\" % savepath\n",
    "    i = 1\n",
    "    for ife in imp_features:\n",
    "        #do histograms\n",
    "        df_sub[ife].hist(by=df_sub[response_col])\n",
    "        pl.suptitle( \"feature: %s\" % ife ) \n",
    "        pl.savefig(saveto +  str(i) + \"_\" + ife, dpi=100 )\n",
    "        i = i + 1"
   ]
  },
  {
   "cell_type": "code",
   "execution_count": null,
   "metadata": {
    "collapsed": true
   },
   "outputs": [],
   "source": [
    "plot_important_features_against_response(top40,df_sub,'log_income_response',\"/Users/dolano/desktop/income_est/\")"
   ]
  }
 ],
 "metadata": {
  "anaconda-cloud": {},
  "kernelspec": {
   "display_name": "Python [Root]",
   "language": "python",
   "name": "Python [Root]"
  },
  "language_info": {
   "codemirror_mode": {
    "name": "ipython",
    "version": 3
   },
   "file_extension": ".py",
   "mimetype": "text/x-python",
   "name": "python",
   "nbconvert_exporter": "python",
   "pygments_lexer": "ipython3",
   "version": "3.5.2"
  }
 },
 "nbformat": 4,
 "nbformat_minor": 0
}
