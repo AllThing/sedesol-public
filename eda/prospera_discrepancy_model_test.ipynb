{
 "cells": [
  {
   "cell_type": "code",
   "execution_count": 320,
   "metadata": {
    "collapsed": true
   },
   "outputs": [],
   "source": [
    "# Imports\n",
    "import pandas as pd  \n",
    "import numpy as np\n",
    "import matplotlib.pyplot as plt\n",
    "import seaborn as sns\n",
    "import pylab as pl\n",
    "sns.set_style('darkgrid')\n",
    "import math\n",
    "\n",
    "from sklearn.cross_validation import train_test_split  \n",
    "from sklearn.ensemble import RandomForestClassifier, ExtraTreesClassifier, VotingClassifier\n",
    "from sklearn.linear_model import LogisticRegression\n",
    "from sklearn.metrics import precision_recall_curve, confusion_matrix, accuracy_score  \n",
    "from sklearn.preprocessing import LabelEncoder\n",
    "from sklearn.metrics import mean_squared_error\n",
    "\n",
    "\n",
    "\n",
    "%matplotlib inline"
   ]
  },
  {
   "cell_type": "code",
   "execution_count": 22,
   "metadata": {
    "collapsed": false
   },
   "outputs": [],
   "source": [
    "#this csv file is just a data export of the table prospera_full_house_with_diff_responses_orig_two\n",
    "#from the schema semantic_underreport\n",
    "df = pd.read_csv('/Users/dolano/Desktop/prospera_full_house_with_diff_responses_orig_two_subset_201608130915.csv',thousands=\",\",low_memory=False)"
   ]
  },
  {
   "cell_type": "code",
   "execution_count": 23,
   "metadata": {
    "collapsed": false
   },
   "outputs": [
    {
     "data": {
      "text/plain": [
       "(50000, 630)"
      ]
     },
     "execution_count": 23,
     "metadata": {},
     "output_type": "execute_result"
    }
   ],
   "source": [
    "#don't worry about incorporating home_id\n",
    "#df_sub = df[[df.columns[0],\"n_rooms\",\"residency_type\",\"has_curp\",\"gender\",\"marital_status\",\"type_of_locality\",\"estimated_income\",\"under_poverty_line\",\"under_minimum_poverty_line\",\"household_in_poverty\",\"household_in_extreme_poverty\",\"household_in_extreme_poverty_with_food_deprivation\",\"indicator_for_education_deprivation_ic_rezedu\",\"indicator_for_education_deprivation_ic_rezedu_3a15\",\"indicator_for_education_deprivation_ic_rezedu_81\",\"indicator_for_education_deprivation_ic_rezedu_82\",\"indicator_for_health_care_deprivation\",\"affiliated_with_seguro_popular\",\"affiliated_with_imss\",\"affiliated_with_issste\",\"affiliated_with_pemex_the_navy_or_defense\",\"affiliated_with_a_clinic_or_private_hospital\",\"indicator_for_social_security_deprivation\",\"indicator_for_employed_without_social_security_deprivation\",\"indicator_for_elders_without_social_security_deprivation\",\"ind_for_non_econ_active_without_soc_security\",\"indicator_for_other_rubrics_without_social_security\",\"indicator_for_quality_of_dwellings_in_housing_deprivation\",\"indicator_for_floor_materials_deprivation\",\"indicator_for_roof_materials_deprivation\",\"indicator_for_wall_materials_deprivation\",\"indicator_for_overcrowding\",\"indicator_for_basic_housing_services\",\"indicator_for_access_to_water\",\"indicator_for_drainage_services_deprivation\",\"indicator_for_electricity_services_deprivation\",\"indicator_for_fuel_for_cooking_deprivation\",\"indicator_food_deprivation\",\"people_who_are_food_secure\",\"food_insecurity_light\",\"food_insecurity_moderate\",\"food_insecurity_sever\",\"has_some_disability\",\"actual_age_as_of_16_dec_2015\",\"receives_support_sagarpa_in_pidr\",\"receives_support_sagarpa_in_p0118_2014\",\"receives_support_sedatu_young_rural_2015_in_s203\",\"receives_support_sedatu_program_habitat_2014_in_s048_h\",\"receives_sedatu_prog_dign_housing_2014_in_pvd\",\"receives_support_sedatu_dignified_housing_2015_in_pvd_2015\",\"receives_support_sedatu_rural_housing_2014_in_pvr\",\"receives_support_sedatu_rural_housing_2015_in_pvr_2015\",\"receives_support_sedesol_prospera_2015_in_prosp\",\"receives_support_for_sedesol_paja_2015_in_paja_2015\",\"receives_support_sedesol_pensions_seniors_2015_in_s176\",\"receives_support_se_social_economy_2014_in_s017_2014\",\"receives_support_se_social_economy_2015_in_s017_2015\",\"receives_support_se_fund_entrepeneurs_2014_in_0066_2014\",\"receives_support_sedesol_food_support_2015_in_pal\",\"receives_support_sedesol_liconsa_social_milk_2015_s052_2_h\",\"receives_support_sedesol_working_mothers_2015_in_pei\",\"receives_support_sedesol_3x1\",\"receives_support_for_sedesol\",\"receives_support_sedesol_life_insurance_2014_in_s241_2014\",\"receives_support_individual_level_in_intervenciones\",\"receives_support_household_level_in_intervenciones_h\",\"receives_food_prog_individual_level_inter_alim\",\"receives_food_prog_household_level_inter_alim\",\"person_found_in_more_than_one_household\",\"household_with_persons_found_in_other_households\",\"house_status\",\"does_not_attend_school\",\"can_not_read_or_write\",\"educational_attainment\",\"dwelling_situation\",\"municipality_crusade_against_hunger\",\"total_fixed_dioconsa_grocery_stores_locality\",\"total_mobile_dioconsa_grocery_stores_locality\",\"activities_care\",\"activities_volunteer\",\"activities_repairs\",\"activities_housework\",\"activities_water_charcoal\",\"receive_remittance\",\"spending_food\",\"spending_clothes\",\"meals_per_day\",\"food_frequency_cereal\",\"food_frequency_vegetables\",\"food_frequency_fruit\",\"food_frequency_legumes\",\"food_frequency_meat\",\"food_frequency_milk\",\"food_frequency_sugars\",\"food_had_little_variety\",\"skipped_meals\",\"ate_less_than_should\",\"ran_out_of_food\",\"went_hungry\",\"ate_less_equal_once\",\"food_little_variety_child\",\"ate_less_than_should_child\",\"meal_portion_decreased_child\",\"went_hungry_child\",\"slept_hungry_child\",\"ate_less_equal_once_child\",\"children_eat_breakfast\",\"children_breakfast_place\",\"children_breakfast_reason\",\"cook_sleep_same_room\",\"n_bedrooms\",\"floor_material\",\"dirt_where_sleep_or_cook\",\"roof_material\",\"wall_material\",\"water_source\",\"toilet\",\"toilet_exclusively_residents\",\"sewage_type\",\"light_source\",\"own_stove\",\"own_refridgerator\",\"own_microwave\",\"own_washing_machine\",\"own_water_tank\",\"own_boiler\",\"own_tv\",\"own_tv_service\",\"own_vhs\",\"own_telephone\",\"own_cell_phone\",\"own_computer\",\"own_climate_control\",\"own_vehicle\",\"own_internet\"]]\n",
    "#df_sub=df_sub.rename(columns = {'\\ufeff\"home_id\"':'home_id'})\n",
    "df.shape #( 50000,630 )"
   ]
  },
  {
   "cell_type": "code",
   "execution_count": 24,
   "metadata": {
    "collapsed": false
   },
   "outputs": [
    {
     "data": {
      "text/plain": [
       "(1000, 630)"
      ]
     },
     "execution_count": 24,
     "metadata": {},
     "output_type": "execute_result"
    }
   ],
   "source": [
    "df[0:1000].shape"
   ]
  },
  {
   "cell_type": "code",
   "execution_count": 314,
   "metadata": {
    "collapsed": false
   },
   "outputs": [],
   "source": [
    "#feature set 1 ( 136 features with RF against has_discrepancy gives rmse of .1436)\n",
    "df_sub1 = df[[\"n_rooms\",\"residency_type\",\"has_curp\",\"gender\",\"marital_status\",\"type_of_locality\",\"estimated_income\",\"under_poverty_line\",\"under_minimum_poverty_line\",\"household_in_poverty\",\"household_in_extreme_poverty\",\"household_in_extreme_poverty_with_food_deprivation\",\"indicator_for_education_deprivation_ic_rezedu\",\"indicator_for_education_deprivation_ic_rezedu_3a15\",\"indicator_for_education_deprivation_ic_rezedu_81\",\"indicator_for_education_deprivation_ic_rezedu_82\",\"indicator_for_health_care_deprivation\",\"affiliated_with_seguro_popular\",\"affiliated_with_imss\",\"affiliated_with_issste\",\"affiliated_with_pemex_the_navy_or_defense\",\"affiliated_with_a_clinic_or_private_hospital\",\"indicator_for_social_security_deprivation\",\"indicator_for_employed_without_social_security_deprivation\",\"indicator_for_elders_without_social_security_deprivation\",\"ind_for_non_econ_active_without_soc_security\",\"indicator_for_other_rubrics_without_social_security\",\"indicator_for_quality_of_dwellings_in_housing_deprivation\",\"indicator_for_floor_materials_deprivation\",\"indicator_for_roof_materials_deprivation\",\"indicator_for_wall_materials_deprivation\",\"indicator_for_overcrowding\",\"indicator_for_basic_housing_services\",\"indicator_for_access_to_water\",\"indicator_for_drainage_services_deprivation\",\"indicator_for_electricity_services_deprivation\",\"indicator_for_fuel_for_cooking_deprivation\",\"indicator_food_deprivation\",\"people_who_are_food_secure\",\"food_insecurity_light\",\"food_insecurity_moderate\",\"food_insecurity_sever\",\"has_some_disability\",\"actual_age_as_of_16_dec_2015\",\"receives_support_sagarpa_in_pidr\",\"receives_support_sagarpa_in_p0118_2014\",\"receives_support_sedatu_young_rural_2015_in_s203\",\"receives_support_sedatu_program_habitat_2014_in_s048_h\",\"receives_sedatu_prog_dign_housing_2014_in_pvd\",\"receives_support_sedatu_dignified_housing_2015_in_pvd_2015\",\"receives_support_sedatu_rural_housing_2014_in_pvr\",\"receives_support_sedatu_rural_housing_2015_in_pvr_2015\",\"receives_support_sedesol_prospera_2015_in_prosp\",\"receives_support_for_sedesol_paja_2015_in_paja_2015\",\"receives_support_sedesol_pensions_seniors_2015_in_s176\",\"receives_support_se_social_economy_2014_in_s017_2014\",\"receives_support_se_social_economy_2015_in_s017_2015\",\"receives_support_se_fund_entrepeneurs_2014_in_0066_2014\",\"receives_support_sedesol_food_support_2015_in_pal\",\"receives_support_sedesol_liconsa_social_milk_2015_s052_2_h\",\"receives_support_sedesol_working_mothers_2015_in_pei\",\"receives_support_sedesol_3x1\",\"receives_support_for_sedesol\",\"receives_support_sedesol_life_insurance_2014_in_s241_2014\",\"receives_support_individual_level_in_intervenciones\",\"receives_support_household_level_in_intervenciones_h\",\"receives_food_prog_individual_level_inter_alim\",\"receives_food_prog_household_level_inter_alim\",\"person_found_in_more_than_one_household\",\"household_with_persons_found_in_other_households\",\"house_status\",\"does_not_attend_school\",\"can_not_read_or_write\",\"educational_attainment\",\"dwelling_situation\",\"municipality_crusade_against_hunger\",\"total_fixed_dioconsa_grocery_stores_locality\",\"total_mobile_dioconsa_grocery_stores_locality\",\"activities_care\",\"activities_volunteer\",\"activities_repairs\",\"activities_housework\",\"activities_water_charcoal\",\"receive_remittance\",\"spending_food\",\"spending_clothes\",\"meals_per_day\",\"food_frequency_cereal\",\"food_frequency_vegetables\",\"food_frequency_fruit\",\"food_frequency_legumes\",\"food_frequency_meat\",\"food_frequency_milk\",\"food_frequency_sugars\",\"food_had_little_variety\",\"skipped_meals\",\"ate_less_than_should\",\"ran_out_of_food\",\"went_hungry\",\"ate_less_equal_once\",\"food_little_variety_child\",\"ate_less_than_should_child\",\"meal_portion_decreased_child\",\"went_hungry_child\",\"slept_hungry_child\",\"ate_less_equal_once_child\",\"children_eat_breakfast\",\"children_breakfast_place\",\"children_breakfast_reason\",\"cook_sleep_same_room\",\"n_bedrooms\",\"floor_material\",\"dirt_where_sleep_or_cook\",\"roof_material\",\"wall_material\",\"water_source\",\"toilet\",\"toilet_exclusively_residents\",\"sewage_type\",\"light_source\",\"own_stove\",\"own_refridgerator\",\"own_microwave\",\"own_washing_machine\",\"own_water_tank\",\"own_boiler\",\"own_tv\",\"own_tv_service\",\"own_vhs\",\"own_telephone\",\"own_cell_phone\",\"own_computer\",\"own_climate_control\",\"own_vehicle\",\"own_internet\"]]\n",
    "\n",
    "#feature set 2 ( 42 features with RF against has_discrepancy gives rmse of .1433)\n",
    "df_sub2 = df[[\"important_locality_id\",\"program_id\",\"family_relation\",\"own_climate_control\",\"own_stove\",\"estimated_income\",\"spending_food\",\"actual_age_as_of_16_dec_2015\",\n",
    "                \"food_frequency_vegetables\",\"food_frequency_fruit\",\"food_frequency_sugars\",\"food_frequency_milk\",\"roof_material\",\"own_refridgerator\",\"n_rooms\",\"food_frequency_meat\",\"toilet\",\"light_source\",\n",
    "                \"dwelling_situation\",\"food_frequency_legumes\",\"own_cell_phone\",\"water_source\",\"marital_status\",\"wall_material\",\"indicator_for_electricity_services_deprivation\",\n",
    "                \"food_frequency_cereal\",\"educational_attainment\",\"sewage_type\",\"n_bedrooms\",\"own_tv\",\"spending_clothes\",\"meals_per_day\",\n",
    "                \"indicator_for_fuel_for_cooking_deprivation\",\"receives_support_sedesol_3x1\",\"own_washing_machine\",\"gender\",\"own_water_tank\",\n",
    "                \"type_of_locality\",\"receives_support_sedesol_prospera_2015_in_prosp\",\"dirt_where_sleep_or_cook\"]]\n",
    "\n",
    "#feature set 3 ( 9 features with RF against has_discrepancy gives rmse of .1768 )\n",
    "df_sub3 = df[[\"important_locality_id\",\"program_id\",\"own_climate_control\",\"own_stove\",\"estimated_income\",\"actual_age_as_of_16_dec_2015\",\"n_rooms\",\"marital_status\"]]\n",
    "\n",
    "#feature set 4 ( only use question answers and nothing else.  27 features with RF against has_discrep gives rmse .1447)\n",
    "df_sub4 = df[[\"n_rooms\",\"cook_sleep_same_room\",\"n_bedrooms\",\"floor_material\",\"dirt_where_sleep_or_cook\",\"roof_material\",\"wall_material\",\"water_source\",\"toilet\",\"toilet_exclusively_residents\",\"sewage_type\",\"light_source\",\"own_stove\",\"own_refridgerator\",\"own_microwave\",\"own_washing_machine\",\"own_water_tank\",\"own_boiler\",\"own_tv\",\"own_tv_service\",\"own_vhs\",\"own_telephone\",\"own_cell_phone\",\"own_computer\",\"own_climate_control\",\"own_vehicle\",\"own_internet\"]]\n",
    "\n",
    "\n",
    "#feature set 5 ( kitchen sink (minus date_of_survey, municipality_id, locality_id, date_of_birth, \n",
    "#                             \"incorporated_into_or_updated_sifode_date\",\"survey_start_time\", \"survey_end_time\", ) \n",
    "                 #465 features with RF against has_discrepancy gives rmse  )\n",
    "\n",
    "df_sub5 = df[[\"benefit_period\", \"institution_id\", \"program_id\", \"intra_program_id\", \"subprogram_id\", \"payment_entity\", \"payment_municipality\", \"payment_locality\", \"benefit_type\", \"registry_holder\", \"beneficiary_type\", \"number_of_benefits\", \"benefit_description\", \"payment_amount\", \"payment_month\", \"residency_type\", \"family_relation\", \"has_curp\", \"curp_validated_by_renapo\", \"state_of_birth_key\", \"gender\", \"marital_status\", \"type_of_locality\", \"fiscal_year_of_survey\", \"estimated_income\", \"under_poverty_line\", \"under_minimum_poverty_line\", \"household_in_poverty\", \"household_in_extreme_poverty\", \"household_in_extreme_poverty_with_food_deprivation\", \"indicator_for_education_deprivation_ic_rezedu\", \"indicator_for_education_deprivation_ic_rezedu_3a15\", \"indicator_for_education_deprivation_ic_rezedu_81\", \"indicator_for_education_deprivation_ic_rezedu_82\", \"indicator_for_health_care_deprivation\", \"affiliated_with_seguro_popular\", \"affiliated_with_imss\", \"affiliated_with_issste\", \"affiliated_with_pemex_the_navy_or_defense\", \"affiliated_with_a_clinic_or_private_hospital\", \"indicator_for_social_security_deprivation\", \"indicator_for_employed_without_social_security_deprivation\", \"indicator_for_elders_without_social_security_deprivation\", \"ind_for_non_econ_active_without_soc_security\", \"indicator_for_other_rubrics_without_social_security\", \"indicator_for_quality_of_dwellings_in_housing_deprivation\", \"indicator_for_floor_materials_deprivation\", \"indicator_for_roof_materials_deprivation\", \"indicator_for_wall_materials_deprivation\", \"indicator_for_overcrowding\", \"indicator_for_basic_housing_services\", \"indicator_for_access_to_water\", \"indicator_for_drainage_services_deprivation\", \"indicator_for_electricity_services_deprivation\", \"indicator_for_fuel_for_cooking_deprivation\", \"indicator_food_deprivation\", \"people_who_are_food_secure\", \"food_insecurity_light\", \"food_insecurity_moderate\", \"food_insecurity_sever\", \"has_some_disability\", \"actual_age_as_of_16_dec_2015\", \"sagarpa_productive_project_2014_p0116_33\", \"sagarpa_formation_of_social_capital_2014_p0116_34\", \"sagarpa_machinery_and_equipment_p0116_115\", \"sagarpa_rearing_of_animals_p0116_136\", \"sagarpa_fertilizers_p0116_174\", \"sagarpa_infra_tools_primary_prod_p0116_183\", \"sagarpa_costs_for_infrastructure_p0116_189\", \"sagarpa_vegetable_material_or_seeds_p0116_195\", \"sagarpa_works_for_storage_of_water_p0116_199\", \"sagarpa_pesticides_and_agrochemicals_p0116_207\", \"sagarpa_surveys_2014_p0116_271\", \"sagarpa_econ_supt_fina_instru_2014_p0116_273\", \"sagarpa_economic_support_for_studies_2014_p0116_274\", \"sagarpa_program_for_natural_disasters_p0116_275\", \"receives_support_sagarpa_in_pidr\", \"sagarpa_productive_project_2014_p0118_33\", \"sagarpa_formation_of_social_capital_2014_p0118_34\", \"sagarpa_surveys_2014_p0118_271\", \"sagarpa_develop_fina_instru_2014_p0118_273\", \"sagarpa_support_for_studies_2014_p0118_274\", \"sagarpa_natural_disasters_p0118_275\", \"receives_support_sagarpa_in_p0118_2014\", \"sagarpa_corn_beans_productive_project_2014_pimaff_33\", \"sagarpa_training_course_2014_p0228_8\", \"sagarpa_producer_support_2014_p0034_143\", \"sagarpa_cafe_2014_procafef_103\", \"sagarpa_protected_agriculture_2014_p0136_182\", \"sagarpa_agr_promo_primary_prod_2014_p0132_183\", \"sagarpa_income_of_agricultural_producers_p0131_104\", \"sagarpa_fishing_integral_projects_2014_desac_210\", \"sagarpa_fishing_training_course_2014_p0140_8\", \"sagarpa_cattle_primary_production_2014_iner_183\", \"sagarpa_cattle_incent_catl_prod_2014_propor_234\", \"sagarpa_cattle_rearing_of_animals_2014_reprep_136\", \"sagarpa_cattle_machinery_and_equipment_2014_mapopef_115\", \"sagarpa_cattle_incent_catl_prod_2014_p0143_234\", \"sagarpa_agrofood_post_production_2014_p0148_184\", \"heath_seguro_popular_health_attention_2015_sepo_87\", \"sct_program_for_temporal_labor_2015\", \"sedatu_young_agricultural_productive_project_2014_jerft_33\", \"sedatu_young_rural_school_projects_2015_s203_278\", \"sedatu_young_rural_agrobusiness_projects_2015_s203_279\", \"receives_support_sedatu_young_rural_2015_in_s203\", \"sedatu_program_habitat_pavement_2014_s048_49\", \"sedatu_program_habitat_drainage_2014_s048_50\", \"sedatu_prog_habiy_net_potbl_water_2014_s048_52\", \"sedatu_program_habitat_public_electrification_2014_s048_54\", \"receives_support_sedatu_program_habitat_2014_in_s048_h\", \"sedatu_dignified_housing_tinaco_2014_pvd_13\", \"sedatu_dignified_housing_latrine_2014_pvd_16\", \"sedatu_dignified_housing_solid_flooring_2014_pvd_21\", \"sedatu_dignified_housing_solid_walls_2014_pvd_26\", \"sedatu_dignified_housing_stove_cooker_2014_pvd_28\", \"sedatu_dignified_housing_rural_housing_2014_pvd_48\", \"sedatu_dign_hous_sqrd_mtrs_aplanado_2014_pvd_61\", \"sedatu_dignified_housing_extension_of_housing_2014_pvd_62\", \"sedatu_dign_hous_com_exten_of_hous_2014_pvd_63\", \"sedatu_dignified_housing_electric_installation_2014_pvd_68\", \"sedatu_dignified_housing_hydrolic_installation_2014_pvd_69\", \"sedatu_dignified_housing_laminate_2014_pvd_72\", \"sedatu_dignified_housing_concrete_slab_ceiling_2014_pvd_73\", \"sedatu_dignified_housing_urban_housing_2014_pvd_75\", \"receives_sedatu_prog_dign_housing_2014_in_pvd\", \"sedatu_dignified_housing_tinaco_2015_pvd_13_2015\", \"sedatu_dignified_housing_latrine_2015_pvd_16_2015\", \"sedatu_dignified_housing_solid_flooring_2015_pvd_21_2015\", \"sedatu_dignified_housing_solid_walls_2015_pvd_26_2015\", \"sedatu_dignified_housing_stove_cooker_2015_pvd_28_2015\", \"sedatu_dignified_housing_rural_housing_2015_pvd_48_2015\", \"sedatu_dignified_housing_aplanado_2015_pvd_61_2015\", \"sedatu_dign_hous_exten_of_hous_2015_pvd_62_2015\", \"sedatu_dign_hous_comb_exten_hous_2015_pvd_63_2015\", \"sedatu_dign_hous_elec_instal_2015_pvd_68_2015\", \"sedatu_dign_hous_hydr_install_2015_pvd_69_2015\", \"sedatu_dignified_housing_laminate_2015_pvd_72_2015\", \"sedatu_dign_hous_conc_slab_ceiling_2015_pvd_73_2015\", \"sedatu_dignified_housing_urban_housing_2015_pvd_75_2015\", \"sedatu_dign_hous_sanit_install_2015_pvd_76_2015\", \"receives_support_sedatu_dignified_housing_2015_in_pvd_2015\", \"sedatu_rural_housing_latrine_2014_pvr_16\", \"sedatu_rural_housing_solid_flooring_2014_pvr_21\", \"sedatu_rural_housing_solid_walls_2014_pvr_26\", \"sedatu_rural_housing_stove_cooker_2014_pvr_28\", \"sedatu_rural_housing_rural_housing_2014_pvr_48\", \"sedatu_rural_housing_aplanado_2014_pvr_61\", \"sedatu_rural_housing_extension_of_housing_2014_pvr_62\", \"sedatu_rural_housing_combined_ext_housing_2014_pvr_63\", \"sedatu_rural_housing_laminate_2014_pvd_7r\", \"sedatu_rural_housing_concrete_slab_ceiling_2014_pvd_7r\", \"receives_support_sedatu_rural_housing_2014_in_pvr\", \"sedatu_rural_housing_latrine_2015_pvr_16_2015\", \"sedatu_rural_housing_solid_flooring_2015_pvr_21_2015\", \"sedatu_rural_housing_solid_walls_2015_pvr_26_2015\", \"sedatu_rural_housing_stove_cooker_2015_pvr_28_2015\", \"sedatu_rural_housing_rural_housing_2015_pvr_48_2015\", \"sedatu_rural_housing_aplanado_2015_pvr_61_2015\", \"sedatu_rural_housing_extension_of_housing_2015_pvr_62_2015\", \"sedatu_rur_hous_comb_ext_hous_2015_pvr_63_2015\", \"sedatu_rural_housing_laminate_2015_pvr_72_2015\", \"sedatu_rur_hous_concr_slab_ceil_2015_pvr_73_2015\", \"receives_support_sedatu_rural_housing_2015_in_pvr_2015\", \"sedesol_fonart_social_capital_2014_s057_34\", \"sedesol_fonart_social_capital_2015_s057_34_2015\", \"sedesol_prospera_edu_scholarships_2015_prosp27\", \"sedesol_prospera_food_support_2015_prosp35\", \"sedesol_prospera_school_supplies_2015_prosp36\", \"sedesol_prospera_older_adults_2015_prosp37\", \"sedesol_prospera_energy_consumption_2015_prosp38\", \"sedesol_prospera_better_living_2015_prosp39\", \"sedesol_prospera_children_better_living_2015_prosp41\", \"receives_support_sedesol_prospera_2015_in_prosp\", \"sedesol_paja_eduction_stimulus_2015_s065_23\", \"sedesol_paja_arrival_support_2015_s065_43\", \"receives_support_for_sedesol_paja_2015_in_paja_2015\", \"sedesol_pensions_support_for_seniors_2015_s176_37\", \"sedesol_pensions_pago_de_marcha_2015_s176_235\", \"sedesol_pensions_financial_inclusion_2015_s176_236\", \"receives_support_sedesol_pensions_seniors_2015_in_s176\", \"sedesol_pet_wage_2015_pet_4\", \"sedesol_pop_productive_project_2014_pop33\", \"sedesol_pop_productive_project_2015_pop33_2015\", \"receives_support_se_social_economy_2014_in_s017_2014\", \"se_social_economy_productive_project_2015_s017_33\", \"se_social_economy_social_capital_2015_s017_34\", \"se_social_economy_financial_instruments_2015_s017_273\", \"receives_support_se_social_economy_2015_in_s017_2015\", \"se_microfin_ruralw_prod_activities_2014_s016_280_2014\", \"se_microfin_ruralw_prod_activities_2015_s016_280_2015\", \"se_fin_micro_b_prod_activities_2014_s021_280_2014\", \"se_fin_micro_b_prod_activities_2021_s016_280_2014\", \"se_fund_entrepeneurs_subsidy_2015_p066_281\", \"receives_support_se_fund_entrepeneurs_2014_in_0066_2014\", \"sedesol_community_kitchens_2015_p0170_111\", \"semarnat_temporarl_employment_wage_2015_petsem_4\", \"semarnat_productive_project_2014_procodesf_33\", \"semarnat_wild_life_productive_activities_2014_p0110_100\", \"semarnat_national_forest_program_2014_p0172_233_2014\", \"semarnat_national_forest_program_2015_p0172_233_2015\", \"semarnat_ntl_forest_pro_2014_p0171_233_2014\", \"cdi_indigineous_2015_paeib_27\", \"sedesol_food_support_food_2015_s118_35\", \"sedesol_food_support_better_living_2015_s118_39\", \"sedesol_food_support_children2015_s118_41\", \"receives_support_sedesol_food_support_2015_in_pal\", \"sedesol_liconsa_social_milk_liter_of_milk_2015_s052_2\", \"receives_support_sedesol_liconsa_social_milk_2015_s052_2_h\", \"sedesol_working_mothers_child_care_2015_pei_42\", \"sedesol_working_mothers_impulse_2015_pei_44\", \"sedesol_working_mothers_moms_sole_fathers_2015_pei_47\", \"receives_support_sedesol_working_mothers_2015_in_pei\", \"sedesol_3x1_laminate_2014_p3x1_7\", \"sedesol_3x1_training_course_2014_p3x1_8\", \"sedesol_3x1_sample_of_water_2014_p3x1_11\", \"sedesol_3x1_latrine_2014_p3x1_16\", \"sedesol_3x1_solid_floor_2014_p3x1_21\", \"sedesol_3x1_scholarship_2014_p3x1_27\", \"sedesol_3x1_productive_projects_2014_p3x1_33\", \"sedesol_3x1_energy_consumption_2014_p3x1_38\", \"sedesol_3x1_drainage_2014_p3x1_51\", \n",
    "             \"sedesol_3x1_public_electrification_2014_p3x1_54\", \"sedesol_3x1_concrete_slab_ceiling_2014_p3x1_73\", \"sedesol_3x1_housing_adquisition_2014_p3x1_78\", \"sedesol_3x1_housing_improvement_2014_p3x1_80\", \"sedesol_3x1_fertilizers_2014_p3x1_174\", \"sedesol_3x1cattle_productivity_2014_p3x1_234\", \"receives_support_sedesol_3x1\", \"sedesol_priority_zones_laminate_2014_s216_7\", \"sedesol_priority_zones_sample_of_water_2014_s216_11\", \"sedesol_priority_zones_tinaco_2014_s216_11\", \"sedesol_priority_zones_solar_panels_2014_s216_11\", \"sedesol_priority_zones_latrine_2014_s216_16\", \"sedesol_priority_zones_personal_garden_2014_s216_19\", \"sedesol_priority_zones_solid_floor_2014_s216_21\", \"sedesol_priority_zones_wall_2014_s216_26\", \"sedesol_priority_zones_ecological_stoves_2014_s216_28\", \"sedesol_priority_zones_drainage_2014_s216_50\", \"sedesol_priority_zones_home_drainage_2014_s216_51\", \"sedesol_priority_zones_network_potable_water_2014_s216_52\", \"sedesol_priority_zones_public_electrification_2014_s216_54\", \"sedesol_priority_zones_additional_room_2014_s216_238\", \"receives_support_for_sedesol\", \"sep_inea_eductional_services_2015_p0219_264\", \"sep_inea_primary_eductional_2015_p0220_265\", \"sep_inea_secondary_eductional_2015_p0220_266\", \"stps_job_market_service_of_linking_labor_2014_p0021_232\", \"stps_job_fairs_service_of_linking_labor_2014_femp_232\", \"stps_employment_support_training_course_2015_p0017_8\", \"stps_employment_machinery_and_equipment_2015_p0018_115\", \"stps_employ_econ_worker_mobil_2015_p0019_263\", \"receives_support_sedesol_life_insurance_2014_in_s241_2014\", \"sedesol_life_insurance_orphans_2015_s241_95\", \"receives_support_individual_level_in_intervenciones\", \"receives_support_household_level_in_intervenciones_h\", \"receives_food_prog_individual_level_inter_alim\", \"receives_food_prog_household_level_inter_alim\",  \"person_found_in_more_than_one_household\", \"household_with_persons_found_in_other_households\", \"house_status\", \"p_total\", \"state_id\", \"does_not_attend_school\", \"can_not_read_or_write\", \"educational_attainment\", \"dwelling_situation\", \"municipality_crusade_against_hunger\", \"total_fixed_dioconsa_grocery_stores_locality\", \"total_mobile_dioconsa_grocery_stores_locality\", \"preapproved_fonart_productive_projects_fonart1\", \"preapproved_fonart_popular_art_competition_fonart1_a\", \"preapproved_fonart_occupational_health_fonart2\", \"preapproved_fonart_support_training_fonart3\", \"overall_preapproved_national_fund_for_craft_work_fonart\", \"complies_with_rules_territorial_context_pdzp_rn_pdzp\", \"preapproved_pdzp_firm_floor_pdzp1\", \"preapproved_pdzp_firm_roof_pdzp2\", \"preapproved_pdzp_firm_wall_pdzp3\", \"preapproved_pdzp_programs_electric_energy_pdzp4\", \"preapproved_pdzp_solar_panels_pdzp5\", \"preapproved_pdzp_ecological_stoves_pdzp6\", \"preapproved_pdzp_ecological_latrines_baths_pdzp7\", \"preapproved_pdzp_additional_room_pdzp8\", \"preapproved_pdzp_potable_water_network_pdzp9\", \"preapproved_pdzp_drainage_pdzp10\", \"preapproved_pdzp_water_capturers_pdzp11\", \"overall_preapproved_program_priority_zones_pdzp\", \"complies_with_rules_program_preapproved_children_rn_pei\", \"preapproved_infant_residence_programs_u_pei\", \"preapproved_pop_territorial_context_rn_pop\", \"preapproved_program_productive_options_u_pop\", \"preapproved_program_temporal_employment_sedesol_u_pet\", \"preapproved_pension_program_for_elders_u_ppam\", \"preapproved_program_agricultural_day_workers_u_paja\", \"preapproved_life_insurance_female_households_psvjf\", \"preapproved_u_sep1\", \"preapproved_u_sep2\", \"preapproved_u_sep3\", \"overall_preapproved_for_sep_total_u_sep\", \"preapproved_inea1a\", \"preapproved_inea2a\", \"preapproved_inea3a\", \"preapproved_inea1b\", \"preapproved_inea2b\", \"overall_preapproved_for_education_of_adults_total_u_inea\", \"complies_rules_rn_sagarpa1\", \"complies_rules_rn_sagarpa2\", \"complies_rules_rn_sagarpa3\", \"complies_rules_valid_asentamiento_rn_sagarpa4\", \"municipality_sagarpa_marzo_2015_mun_agricfam\", \"preapproved_sagarpa1\", \"preapproved_sagarpa2\", \"preapproved_sagarpa3\", \"preapproved_seguro_popular_u_salud\", \"preapproved_agricultural_mobile_labor_stps1\", \"preapproved_self_employment_stps2\", \"preapproved_labor_and_provisional_work_stps3\", \"overall_preapproved_labor_and_provisional_work_stps\", \"complies_localities_agriculture_centers_rn_corett\", \"preapproved_national_commision_land_occupancy_u_corett\", \"preapproved_liconsa_social_supply_of_milk_table2_u_liconsa\", \"preapproved_housing_commision_u_conavi1\", \"preapproved_housing_commision_u_conavi2\", \"preapproved_housing_commision_u_conavi3\", \"overall_preapproved_housing_commision_u_conavi\", \"preapproved_cdi_paei_primary_education_u_cdi1\", \"preapproved_cdi_paei_secondary_education_u_cdi2\", \"preapproved_cdi_proin_productive_projects_u_cdi3\", \"complies_with_rules_ofcdi_u_cdi4\", \"preapproved_for_cdi_u_cdi5\", \"preapproved_for_cdi_u_cdi6\", \"overall_preapproved_for_cdi_u_cdi\", \"complies_with_rules_of_fonhapo_sedatu_rn_fonhapo\", \"preapproved_pvd_pvr_firm_floor_fonhapo1\", \"preapproved_pvd_pvr_firm_roof_fonhapo2\", \"preapproved_pvd_pvr_firm_wall_fonhapo3\", \"preapproved_pvd_pvr_additional_room_fonhapo4\", \"preapproved_pvd_pvr_rural_housing_fonhapo5\", \"preapproved_pvd_pvr_ecological_latrines_baths_fonhapo6\", \"overall_preapproved_national_community_housing_sedatu_fonhapo\", \"preapproved_prospera_u_prospera\", \"preapproved_sct_program_temporal_employment_u_sct\", \"preapproved_for_semarnat1\", \"preapproved_for_provicom_productive_projects_semarnat2\", \"preapproved_temporal_employment_semarnat3\", \"preapproved_for_environment_and_natural_resources_semarnat4\", \"preapproved_inaes_productive_projects_se1\", \"preapproved_social_projects_of_youth_groups_imjuve\", \"activities_care\", \"activities_volunteer\", \"activities_repairs\", \"activities_housework\", \"activities_water_charcoal\", \"receive_remittance\", \"spending_food\", \"spending_clothes\", \"meals_per_day\", \"food_frequency_cereal\", \"food_frequency_vegetables\", \"food_frequency_fruit\", \"food_frequency_legumes\", \"food_frequency_meat\", \"food_frequency_milk\", \"food_frequency_sugars\", \"food_had_little_variety\", \"skipped_meals\", \"ate_less_than_should\", \"ran_out_of_food\", \"went_hungry\", \"ate_less_equal_once\", \"food_little_variety_child\", \"ate_less_than_should_child\", \"meal_portion_decreased_child\", \"went_hungry_child\", \"slept_hungry_child\", \"ate_less_equal_once_child\", \"children_eat_breakfast\", \"children_breakfast_place\", \"children_breakfast_reason\", \"n_rooms\", \"n_bedrooms\", \"cook_sleep_same_room\", \"floor_material\", \n",
    "             \"floor_poor_condition\", \"dirt_where_sleep_or_cook\", \"roof_material\", \"roof_poor_condition\", \"wall_material\", \"wall_poor_condition\", \"toilet\", \"toilet_exclusively_residents\", \"water_source\", \"no_water_treatment\", \"boil_water\", \"chlorinate_water\", \"filter_water\", \"buy_bottled_water\", \"sewage_type\", \"trash_type\", \"cooking_fuel\", \"cooking_equipment\", \"own_refridgerator\", \"own_washing_machine\", \"own_vhs\", \"own_vehicle\", \"own_telephone\", \"own_microwave\", \"own_computer\", \"own_stove\", \"own_boiler\", \"own_internet\", \"own_cell_phone\", \"own_tv\", \"own_digital_tv\", \"own_tv_service\", \"own_water_tank\", \"own_climate_control\", \"light_source\", \"home_payment\", \"more_than_two_floors\", \"have_construction_space\", \"construction_space_amount\", \"is_local_annex\", \"house_space\", \"land_used_for_agriculture\", \"n_landowners\", \"grow_maize\", \"grow_beans\", \"grow_cereals\", \"grow_fruit\", \"grow_sugarcane\", \"grow_tomato\", \"grow_chile\", \"grow_lemon\", \"grow_potato\", \"grow_coffee\", \"grow_avocado\", \"grow_hay\", \"grow_other\", \"grow_nothing\", \"use_irrigation\", \"use_machines_agriculture\", \"use_animal_agriculture\", \"use_fertilizers\", \"use_chemical_fertilizers\", \"use_pesticides\", \"use_hydroponics\", \"n_horses\", \"n_burros\", \"n_oxen\", \"n_goats\", \"n_cows\", \"n_chickens\", \"n_pigs\", \"n_rabbits\", \"process_id\", \"process_type\", \"survey_origin\", \"medical_provider\", \"work_affilation\", \"education_level\", \"education_grade\", \"attends_school\", \"reason_left_school\", \"work_situation\", \"job_search\", \"work_period\", \"reason_not_work_all_year\", \"has_a_work_supervisor\", \"independent_work\", \"have_sick_leave\", \"have_sar\", \"have_housing_credit\", \"have_daycare_support\", \"have_bonus\", \"have_life_insurance\", \"have_no_benefits\", \"benefits_no_response\", \"received_work_pay\", \"income_self_reported\", \"income_period\", \"have_sar_afore_insurance\", \"have_private_insurance\", \"have_life_insurance_voluntarios\", \"have_disability_insurance\", \"have_other_insurance\", \"no_aforementioned_insurance\", \"no_response_insurance\", \"retired\", \"pension_from_abroad\", \"has_inapam_card\", \"receives_pension_adultos_mayores\", \"receives_prospera_adultos_mayores\", \"receives_other_adultos_mayores\", \"receives_no_adultos_mayores\", \"no_response_adultos_mayores\", \"has_arthritis\", \"has_cancer\", \"has_cirrhosis\", \"has_renal_disease\", \"has_diabetes\", \"has_heart_disease\", \"has_lung_disease\", \"has_hiv\", \"has_anemia\", \"has_hypertension\", \"has_obesity\", \"indece_de_rezago_social\", \"imss_salary\", \"important_locality_id\"]]\n",
    "\n",
    "#CURRENT FEATURE SET TO USE\n",
    "df_sub = df_sub2\n",
    "\n",
    "#for five only use 10000 rows\n",
    "#df_sub = df_sub.sample(n=10000,replace=False)\n",
    "#df_sub = df_sub[0:10000]"
   ]
  },
  {
   "cell_type": "code",
   "execution_count": 315,
   "metadata": {
    "collapsed": false
   },
   "outputs": [
    {
     "name": "stdout",
     "output_type": "stream",
     "text": [
      "important_locality_id\n"
     ]
    }
   ],
   "source": [
    "#if using feature set 5, remove these always ALL NULL columns\n",
    "all_null_cols = [\"floor_poor_condition\",\"roof_poor_condition\",\"wall_poor_condition\",\"no_water_treatment\",\"boil_water\",\"chlorinate_water\",\"filter_water\",\"buy_bottled_water\",\"more_than_two_floors\",\"have_construction_space\",\"construction_space_amount\",\"is_local_annex\",\"house_space\",\"n_landowners\",\"grow_maize\",\"grow_beans\",\"grow_cereals\",\"grow_fruit\",\"grow_sugarcane\",\"grow_tomato\",\"grow_chile\",\"grow_lemon\",\"grow_potato\",\"grow_coffee\",\"grow_avocado\",\"grow_hay\",\"grow_other\",\"grow_nothing\",\"use_irrigation\",\"use_machines_agriculture\",\"use_animal_agriculture\",\"use_fertilizers\",\"use_chemical_fertilizers\",\"use_pesticides\",\"use_hydroponics\",\"benefits_no_response\",\"no_response_insurance\",\"no_response_adultos_mayores\",\"has_arthritis\",\"has_cancer\",\"has_cirrhosis\",\"has_renal_disease\",\"has_diabetes\",\"has_heart_disease\",\"has_lung_disease\",\"has_hiv\",\"has_anemia\",\"has_hypertension\",\"has_obesity\"]\n",
    "df_sub_tmp = [ col for col in df_sub.columns if col not in all_null_cols]\n",
    "#print(df_sub_tmp)\n",
    "df_sub = df_sub[df_sub_tmp]\n",
    "\n",
    "#if including important_locality_id\n",
    "cat_obs = [\"important_locality_id\",\"floor_poor_condition\",\"roof_poor_condition\",\"wall_poor_condition\",\"no_water_treatment\",\n",
    "          \"boil_water\",\"chlorinate_water\",\"filter_water\",\"buy_bottled_water\",\"more_than_two_floors\",\"have_construction_space\",\n",
    "           \"construction_space_amount\",\"is_local_annex\",\"house_space\",\"n_landowners\",\"grow_maize\",\"grow_beans\", \"grow_cereals\", \n",
    "           \"grow_fruit\", \"grow_sugarcane\", \"grow_tomato\", \"grow_chile\", \"grow_lemon\", \"grow_potato\", \"grow_coffee\", \"grow_avocado\", \n",
    "           \"grow_hay\", \"grow_other\", \"grow_nothing\", \"use_irrigation\", \"use_machines_agriculture\", \"use_animal_agriculture\", \n",
    "           \"use_fertilizers\", \"use_chemical_fertilizers\", \"use_pesticides\", \"use_hydroponics\", \"benefits_no_response\", \"no_response_insurance\", \n",
    "           \"no_response_adultos_mayores\", \"has_arthritis\", \"has_cancer\", \"has_cirrhosis\", \"has_renal_disease\", \"has_diabetes\", \n",
    "           \"has_heart_disease\", \"has_lung_disease\", \"has_hiv\", \"has_anemia\", \"has_hypertension\", \"has_obesity\"]\n",
    "\n",
    "\n",
    "for cat_o in cat_obs:\n",
    "    if cat_o in df_sub_tmp:\n",
    "        print(cat_o)\n",
    "        df_sub[cat_o] = df_sub[cat_o].astype(\"object\")\n"
   ]
  },
  {
   "cell_type": "code",
   "execution_count": 316,
   "metadata": {
    "collapsed": false
   },
   "outputs": [],
   "source": [
    "ints = df_sub.dtypes[df_sub.dtypes == \"float64\" ].append(df_sub.dtypes[df_sub.dtypes == \"int64\" ]).keys().values\n",
    "#x = np.where(ints=='marital_status')\n",
    "#ints = np.delete(ints,x[0][0])\n",
    "\n",
    "non_ints = [c for c in df_sub.columns if c not in ints]\n",
    "#non_ints = np.append(non_ints,['marital_status'])"
   ]
  },
  {
   "cell_type": "code",
   "execution_count": 317,
   "metadata": {
    "collapsed": false
   },
   "outputs": [],
   "source": [
    "#handle missing int vals \n",
    "for c in ints:\n",
    "    if df_sub[c].isnull().values.any():\n",
    "        median = df_sub[c].median()        \n",
    "        try:\n",
    "            median = int(median)\n",
    "            #print(\"Found NANs in \",c,\" . Filling with median value: \",median)\n",
    "            df_sub[c] = df_sub[c].fillna(median)\n",
    "        except:\n",
    "            print(\"Error with \",c)\n",
    "            print(median)"
   ]
  },
  {
   "cell_type": "code",
   "execution_count": 318,
   "metadata": {
    "collapsed": false
   },
   "outputs": [],
   "source": [
    "#handle missing cat vals \n",
    "for c in non_ints:    \n",
    "    if df_sub[c].isnull().values.any(): \n",
    "        try:\n",
    "            frequent = df_sub[c].astype('category').describe().top\n",
    "            #print(\"Found NANs in \",c,\" . Filling with median value: \",frequent)\n",
    "            df_sub[c] = df_sub[c].fillna(frequent)\n",
    "        except:\n",
    "            print(\"Error with \",c)"
   ]
  },
  {
   "cell_type": "code",
   "execution_count": 363,
   "metadata": {
    "collapsed": false
   },
   "outputs": [],
   "source": [
    "#GET DATE FEATURE FUNCTIONS\n",
    "        \n",
    "def get_cuis_survey_start_end_features(input_data):\n",
    "    #THIS IS THE DATE OF WHEN THE CUIS WAS TAKEN AS SEEN IN SIFODE_CLEAN_ENCUESTA\n",
    "    start = pd.to_datetime(input_data[\"survey_start_time\"],infer_datetime_format=True)\n",
    "    end = pd.to_datetime(input_data[\"survey_end_time\"],infer_datetime_format=True)   \n",
    "    result_data = pd.DataFrame(end - start,columns=['survey_length'])    \n",
    "    survey_length = pd.DataFrame(list([ r.seconds / 60 if hasattr(r,\"seconds\") else None for r in result_data.survey_length]),columns=['survey_length'])\n",
    "\n",
    "    standard_time_features = get_general_date_features(input_data,'survey_start_time')    \n",
    "    data = pd.concat([survey_length,standard_time_features],axis=1)\n",
    "    ret = pd.DataFrame(data)\n",
    "    return ret\n",
    "\n",
    "def get_general_date_features(input_data,colname):\n",
    "    date_start = pd.to_datetime(input_data[colname],infer_datetime_format=True)\n",
    "    feats = [\"year\",\"day\",\"month\",\"dayofweek\",\"minute\",\"hour\",\"dayofyear\",\"weekofyear\",\"is_month_start\",\"is_month_end\",\"is_year_start\",\"is_year_end\"]\n",
    "    feats_d = date_start.apply(lambda x: [ getattr(x,f) if hasattr(x,f) else None for f in feats ])\n",
    "    \n",
    "    feats_data = pd.DataFrame(list(feats_d),columns=[colname + \"_\" + c for c in feats])\n",
    "    \n",
    "    #TOOD: handle the 127 year old in data cleaning, but for now just give null value\n",
    "    start_seconds = date_start.apply(lambda x: x.timestamp() if hasattr(x,'timestamp') and str(type(x)) != \"<class 'pandas.tslib.NaTType'>\" and str(x) != '1888-07-08 18:00:00' else None)\n",
    "    epoch_time_start = pd.DataFrame( list(start_seconds),columns=[colname + '_start_timestamp'])\n",
    "    \n",
    "    current_age = date_start.apply( lambda x: math.floor((x.today() - x ).days / 365) if hasattr(x,'today') and str(type(x)) != \"<class 'pandas.tslib.NaTType'>\" else None )\n",
    "    current_age_df = pd.DataFrame( list(current_age), columns=[colname + '_current_age'])\n",
    "    \n",
    "    data = pd.concat([epoch_time_start,current_age,feats_data],axis=1)    \n",
    "    ret = pd.DataFrame(data)\n",
    "    return ret\n",
    "\n",
    "\n",
    "\n",
    "#DATE OF WHEN THE CUIS WAS TAKEN AS SEEN IN SIFODE_CLEAN_ENCUESTA\n",
    "survey_features1 = get_cuis_survey_start_end_features(df)\n",
    "    \n",
    "#DATE COLUMN FOR WHEN THE SURVEY WAS TAKEN AS SEEN IN PUB\n",
    "survey_features2 = get_general_date_features(df,\"date_of_survey\")\n",
    "\n",
    "#GET DateOfBirth FEATURES\n",
    "survey_features3 = get_general_date_features(df,\"date_of_birth\")\n",
    "\n"
   ]
  },
  {
   "cell_type": "code",
   "execution_count": 365,
   "metadata": {
    "collapsed": false
   },
   "outputs": [],
   "source": [
    "time_features = pd.concat([survey_features1,survey_features2,survey_features3],axis=1) "
   ]
  },
  {
   "cell_type": "code",
   "execution_count": 375,
   "metadata": {
    "collapsed": false
   },
   "outputs": [
    {
     "data": {
      "text/plain": [
       "True"
      ]
     },
     "execution_count": 375,
     "metadata": {},
     "output_type": "execute_result"
    }
   ],
   "source": [
    "time_features['survey_length'].dtypes == 'float64'"
   ]
  },
  {
   "cell_type": "code",
   "execution_count": 377,
   "metadata": {
    "collapsed": false
   },
   "outputs": [],
   "source": [
    "time_features.dtypes\n",
    "#handle missing time features vals \n",
    "for c in time_features.columns:\n",
    "    if time_features[c].dtypes == 'float64':\n",
    "        if time_features[c].isnull().values.any():\n",
    "            median = time_features[c].median()        \n",
    "            try:\n",
    "                median = int(median)\n",
    "                time_features[c] = time_features[c].fillna(median)\n",
    "            except:\n",
    "                print(\"Error with \",c)\n",
    "                print(median)\n",
    "    else:\n",
    "        if time_features[c].isnull().values.any(): \n",
    "            try:\n",
    "                frequent = time_features[c].astype('category').describe().top                \n",
    "                time_features[c] = time_features[c].fillna(frequent)\n",
    "            except:\n",
    "                print(\"Error with \",c)"
   ]
  },
  {
   "cell_type": "code",
   "execution_count": 378,
   "metadata": {
    "collapsed": false
   },
   "outputs": [
    {
     "name": "stdout",
     "output_type": "stream",
     "text": [
      "NUMBER OF FEATURES:  83\n"
     ]
    }
   ],
   "source": [
    "include_time_features = True\n",
    "\n",
    "non_ints = np.array(non_ints)\n",
    "num_features = ints.size + non_ints.size \n",
    "\n",
    "if include_time_features:\n",
    "    num_features = num_features + time_features.columns.size \n",
    "    \n",
    "print(\"NUMBER OF FEATURES: \",num_features) "
   ]
  },
  {
   "cell_type": "code",
   "execution_count": 368,
   "metadata": {
    "collapsed": false
   },
   "outputs": [
    {
     "data": {
      "text/plain": [
       "(50000, 7)"
      ]
     },
     "execution_count": 368,
     "metadata": {},
     "output_type": "execute_result"
    }
   ],
   "source": [
    "#df_sub[non_ints]  50000 x 11\n",
    "df_sub[non_ints].shape\n",
    "#df_sub.head()"
   ]
  },
  {
   "cell_type": "code",
   "execution_count": 32,
   "metadata": {
    "collapsed": false
   },
   "outputs": [],
   "source": [
    "#df_sub[non_ints].columns.values\n",
    "#df_sub[non_ints][df_sub[non_ints].columns.values[360:380]]\n"
   ]
  },
  {
   "cell_type": "code",
   "execution_count": 326,
   "metadata": {
    "collapsed": false
   },
   "outputs": [],
   "source": [
    "#ENCODE CATEGORICAL/BINARY VALUES\n",
    "hot_encoded = pd.get_dummies(df_sub[non_ints],dummy_na=True)"
   ]
  },
  {
   "cell_type": "code",
   "execution_count": 327,
   "metadata": {
    "collapsed": true
   },
   "outputs": [],
   "source": [
    "int_data = df_sub[ints]\n",
    "# int_data.shape    #50000 x 49"
   ]
  },
  {
   "cell_type": "code",
   "execution_count": 379,
   "metadata": {
    "collapsed": false
   },
   "outputs": [],
   "source": [
    "if include_time_features:\n",
    "    df_expanded = pd.concat([int_data,hot_encoded,time_features],axis=1)\n",
    "else:\n",
    "    df_expanded = pd.concat([int_data,hot_encoded],axis=1)\n",
    "#df_expanded.shape   #500000 x 382"
   ]
  },
  {
   "cell_type": "code",
   "execution_count": 380,
   "metadata": {
    "collapsed": false
   },
   "outputs": [],
   "source": [
    "# Some Prepreocessing\n",
    "\n",
    "# Build the classifier and get the predictions\n",
    "clf1 = RandomForestClassifier(n_estimators=50, oob_score=True)  \n",
    "clf2 = ExtraTreesClassifier(n_estimators=50)\n",
    "\n",
    "clf3 = VotingClassifier(estimators=[\n",
    "                        ('LR', LogisticRegression(C=0.1, random_state=1)) \n",
    "                       ,('RFC', RandomForestClassifier(max_depth=None, n_estimators=10, random_state=0, min_samples_split=1))\n",
    "                       ,('ETC', ExtraTreesClassifier(max_depth = None, max_features = 5, n_estimators=10, random_state=0, min_samples_split=1))],\n",
    "                        voting='soft', weights=[1,1,2] )\n",
    "\n",
    "clf4 = VotingClassifier(estimators=[\n",
    "                        ('LR', LogisticRegression(C=0.1, random_state=1)) \n",
    "                       ,('RFC', RandomForestClassifier(n_estimators=50))\n",
    "                       ,('ETC', ExtraTreesClassifier(n_estimators=50))],\n",
    "                        voting='soft', weights=[1,2,2] )\n",
    "\n",
    "clf5 = LogisticRegression(C=0.1)\n",
    "\n",
    "#USE THIS MODEL\n",
    "clf = clf2\n",
    "\n",
    "test_size_percent = 0.1\n",
    "\n",
    "signals = df_expanded \n",
    "\n",
    "labels = df['has_discrepancy'].astype('int')\n",
    "#labels = df[0:10000]['has_discrepancy'].astype('int')   #when using sample"
   ]
  },
  {
   "cell_type": "code",
   "execution_count": 381,
   "metadata": {
    "collapsed": false
   },
   "outputs": [],
   "source": [
    "train_signals, test_signals, train_labels, test_labels = train_test_split(signals, labels, test_size=test_size_percent)  \n",
    "rf_clf = clf.fit(train_signals, train_labels)  \n",
    "predictions = rf_clf.predict_proba(test_signals)[:,1]  "
   ]
  },
  {
   "cell_type": "code",
   "execution_count": 382,
   "metadata": {
    "collapsed": false
   },
   "outputs": [
    {
     "data": {
      "text/plain": [
       "3941"
      ]
     },
     "execution_count": 382,
     "metadata": {},
     "output_type": "execute_result"
    }
   ],
   "source": [
    "#predictions[predictions > .95].size  #227\n",
    "predictions[predictions > .5].size    #3923, 3873, 3695, 3643, 916 (1/5 sample size)  RF\n",
    "                                      #    , 3836                                   ExTra\n",
    "                                      #      3892                                   Ensemble3\n",
    "                                      #      3832                                   Ensembl4\n",
    "                                      #      3587"
   ]
  },
  {
   "cell_type": "code",
   "execution_count": 383,
   "metadata": {
    "collapsed": false
   },
   "outputs": [
    {
     "name": "stdout",
     "output_type": "stream",
     "text": [
      "[[1588    5]\n",
      " [3093  314]]\n",
      "0.3804\n",
      "[[ 766  827]\n",
      " [ 293 3114]]\n",
      "0.776\n"
     ]
    }
   ],
   "source": [
    "#lets say we can look into 5% of the people we are most confident in\n",
    "predictions_binary_top5 = predictions > .95\n",
    "predictions_binary_top50 = predictions > .5\n",
    "print(confusion_matrix(test_labels,predictions_binary_top5))\n",
    "print(accuracy_score(test_labels,predictions_binary_top5)) \n",
    "#for featureset_1 RF\n",
    "#[[1578,    2],\n",
    "# [3195,  225]])\n",
    "#.36 accuracy for top 5 %\n",
    "\n",
    "#for featureset_2 RF\n",
    "#[[1551   10]\n",
    "# [3022  417]]\n",
    "#0.3936\n",
    "\n",
    "#for featureset_3 RF\n",
    "#[[1600   42]\n",
    "# [2424  934]]\n",
    "#0.5068\n",
    "\n",
    "#for featureset_4 RF\n",
    "#[[1499   35]\n",
    "# [2296 1170]]\n",
    "#0.5338\n",
    "\n",
    "#for featureset_5 RF\n",
    "#[[309   0]\n",
    "# [688   3]]\n",
    "#0.312\n",
    "\n",
    "print(confusion_matrix(test_labels,predictions_binary_top50))\n",
    "print(accuracy_score(test_labels,predictions_binary_top50))\n",
    "#for featureset_1 RF\n",
    "#[[ 784  796]\n",
    "# [ 293 3127]]\n",
    "#0.7822 accuracy for top 50%\n",
    "\n",
    "#for featureset_2 RF\n",
    "#[[ 825  736]\n",
    "# [ 302 3137]]\n",
    "#0.7924\n",
    "\n",
    "#for featureset_3 RF\n",
    "#[[ 761  764]\n",
    "# [ 554 2921]]\n",
    "#.7634\n",
    "\n",
    "#for featureset_4 RF\n",
    "#[[ 912  622]\n",
    "# [ 445 3021]]\n",
    "#0.7866\n",
    "\n",
    "#for featureset_5 RF\n",
    "#[[ 75 234]\n",
    "# [  9 682]]\n",
    "#0.757\n",
    "\n",
    "\n",
    "#EXTRA TREES\n",
    "#for featureset_2 \n",
    "#[[1585    6]\n",
    "# [2828  581]]\n",
    "#0.4332 (top5)\n",
    "\n",
    "#[[ 854  737]\n",
    "# [ 310 3099]]\n",
    "#0.7906 (top50)\n",
    "\n",
    "#for featureset_2 with timefeatures\n",
    "#[[1588    5]\n",
    "# [3093  314]]\n",
    "#0.3804\n",
    "\n",
    "#[[ 766  827]\n",
    "# [ 293 3114]]\n",
    "#0.776\n",
    "\n",
    "\n",
    "#Voting Ensemble3\n",
    "#[[1516    5]\n",
    "# [3040  439]]\n",
    "#0.391\n",
    "\n",
    "#[[ 777  744]\n",
    "# [ 331 3148]]\n",
    "#0.785\n",
    "\n",
    "#Voting Ensemble4\n",
    "#[[1637    4]\n",
    "# [2984  375]]\n",
    "#0.4024\n",
    "\n",
    "#[[ 861  780]\n",
    "# [ 307 3052]]\n",
    "#0.7826\n",
    "\n",
    "#Logistic Regression\n",
    "#[[1553   15]\n",
    "# [2541  891]]\n",
    "#0.4888\n",
    "\n",
    "#[[ 916  652]\n",
    "# [ 497 2935]]\n",
    "#0.7702"
   ]
  },
  {
   "cell_type": "code",
   "execution_count": 375,
   "metadata": {
    "collapsed": false
   },
   "outputs": [],
   "source": [
    "#see first 5 train signals and labels\n",
    "#print(\"Train Features: \", train_signals.head().values)\n",
    "#print(\"Train Labels: \", train_labels.head().values)\n",
    "\n",
    "#see first 5 test set labels vs predictions for them\n",
    "#print(\"\\nTest Labels: \", test_labels.head().values) \n",
    "#print(\"Predicted Test Labels: \",predictions[0:5])"
   ]
  },
  {
   "cell_type": "code",
   "execution_count": 388,
   "metadata": {
    "collapsed": false
   },
   "outputs": [
    {
     "name": "stdout",
     "output_type": "stream",
     "text": [
      "\n"
     ]
    }
   ],
   "source": [
    "#precision, recall, thresholds = precision_recall_curve(test_labels, predictions)  \n",
    "#thresholds = np.append(thresholds, 1)\n",
    "\n",
    "#def plot_precision_recall_n(y_true, y_prob, model_name):\n",
    "#    from sklearn.metrics import precision_recall_curve\n",
    "#    y_score = y_prob\n",
    "#    precision_curve, recall_curve, pr_thresholds = precision_recall_curve(y_true, y_score)\n",
    "\n",
    "y_true = test_labels\n",
    "y_score = predictions\n",
    "rmse = mean_squared_error(y_true, y_score)\n",
    "\n",
    "mtype = \"ExtraTreesWithTimeFeatures\"   #RandomForest, ExtraTrees, VotingEnsemble3, VotingEnsemble4, LogisticRegression\n",
    "\n",
    "model_name1 = \"%s with 50 trees (RMSE: %s) using 136 features on subset of 50k out of 400k rows\" % (mtype, rmse)\n",
    "model_name2 = \"%s with 50 trees (RMSE: %s) using 41 features on subset of 50k out of 400k rows\" % (mtype, rmse)\n",
    "model_name3 = \"%s with 50 trees (RMSE: %s) using 9 features on subset of 50k out of 400k rows\" % (mtype, rmse)\n",
    "model_name4 = \"%s with 50 trees (RMSE: %s) using 27 CUIS survey only features on subset of 50k out of 400k rows\" % (mtype, rmse)\n",
    "model_name5 = \"%s with 50 trees (RMSE: %s) using 462 features on subset of 20k out of 400k rows\" % (mtype, rmse)\n",
    "\n",
    "#SET MODEL NAME AND FEATSET USED!!\n",
    "model_name = model_name2\n",
    "featset = 2\n",
    "\n",
    "precision_curve, recall_curve, pr_thresholds = precision_recall_curve(y_true, y_score)\n",
    "precision_curve = precision_curve[:-1]\n",
    "recall_curve = recall_curve[:-1]\n",
    "pct_above_per_thresh = []\n",
    "number_scored = len(y_score)\n",
    "for value in pr_thresholds:\n",
    "    num_above_thresh = len(y_score[y_score>=value])\n",
    "    pct_above_thresh = num_above_thresh / float(number_scored)\n",
    "    pct_above_per_thresh.append(pct_above_thresh)\n",
    "pct_above_per_thresh = np.array(pct_above_per_thresh)\n",
    "\n",
    "plt.clf()\n",
    "fig, ax1 = plt.subplots()\n",
    "ax1.plot(pct_above_per_thresh, precision_curve, 'b')\n",
    "ax1.set_xlabel('percent of population')\n",
    "ax1.set_ylabel('precision', color='b')\n",
    "\n",
    "ax2 = ax1.twinx()\n",
    "ax2.plot(pct_above_per_thresh, recall_curve, 'r')\n",
    "ax2.set_ylabel('recall', color='r')\n",
    "\n",
    "name = model_name\n",
    "saveto = \"/Users/dolano/Desktop/precision_recall_%s_with_50est_featset%s_y_has_discrepancy\" % (mtype,featset)\n",
    "plt.title(name)\n",
    "fig.set_size_inches(18.5, 10.5, forward=True)\n",
    "fig.savefig(saveto, dpi=100 )\n",
    "plt.show()\n",
    "plt.close()"
   ]
  },
  {
   "cell_type": "code",
   "execution_count": 398,
   "metadata": {
    "collapsed": false
   },
   "outputs": [],
   "source": [
    "#GET FEATURE IMPORTANCE FOR RFs and ExtraTrees\n",
    "importances = clf.feature_importances_\n",
    "std = np.std([tree.feature_importances_ for tree in clf.estimators_], axis=0)\n",
    "indices = np.argsort(importances)[::-1]\n",
    "\n",
    "# Print the feature ranking\n",
    "print(\"Feature ranking: (sorted by importance)\")\n",
    "\n",
    "i = 1\n",
    "for f in indices:\n",
    "    print(\"%d. %s [col: %d] (%f)\" % (i, signals.columns[f], f, importances[f]))\n",
    "    i = i + 1\n"
   ]
  },
  {
   "cell_type": "code",
   "execution_count": 394,
   "metadata": {
    "collapsed": false
   },
   "outputs": [],
   "source": [
    "#GET FEATURE IMPORTANCE OF Logistic Regression\n",
    "importances = abs(clf.coef_)\n",
    "importances = importances[0]\n",
    "indices = np.argsort(importances)[::-1]"
   ]
  },
  {
   "cell_type": "code",
   "execution_count": 395,
   "metadata": {
    "collapsed": false
   },
   "outputs": [],
   "source": [
    "signals_sorted = signals[indices]    \n",
    "signals_sorted_top30 = signals_sorted[signals_sorted.columns[1:30]]\n",
    "\n",
    "# Plot the feature importances of the forest\n",
    "plt.clf()\n",
    "fig, ax1 = plt.subplots()\n",
    "\n",
    "plt.title(\"Feature importances\")\n",
    "xnames = [a[0:20] for a in signals.columns[indices[0:31]] ]\n",
    "\n",
    "plt.bar(range(signals_sorted_top30.shape[1]), importances[indices][0:29], color=\"b\", align=\"center\")\n",
    "plt.xticks(range(signals_sorted_top30.shape[1]), xnames, rotation=90, fontsize=14)\n",
    "plt.xlim([-1, signals_sorted_top30.shape[1]])\n",
    "\n",
    "saveto = \"/Users/dolano/Desktop/feature_importances_%s_with_50est_featset%s_y_has_discrepancy\" % (mtype,featset)\n",
    "fig.set_size_inches(18.5, 18.5, forward=True)\n",
    "fig.savefig(saveto, dpi=100 )\n",
    "plt.show()\n",
    "plt.close()"
   ]
  },
  {
   "cell_type": "code",
   "execution_count": 397,
   "metadata": {
    "collapsed": false
   },
   "outputs": [
    {
     "name": "stdout",
     "output_type": "stream",
     "text": [
      "\n"
     ]
    }
   ],
   "source": [
    "#ONLY FOR PLOTTING IMPORTANT FEATURES AGAINST RESPONSE\n",
    "from matplotlib.backends.backend_pdf import PdfPages\n",
    "imp_features1 = [\"own_climate_control\",\"own_stove\",\"estimated_income\",\"spending_food\",\"actual_age_as_of_16_dec_2015\",\"food_frequency_vegetables\",\"food_frequency_fruit\",\"food_frequency_sugars\",\"food_frequency_milk\",\"roof_material\",\"own_refridgerator\",\"n_rooms\",\"food_frequency_meat\",\"toilet\",\"light_source\",\"dwelling_situation\",\"food_frequency_legumes\",\"own_cell_phone\",\"water_source\", \"marital_status\",\"wall_material\",\"indicator_for_electricity_services_deprivation_False\",\"food_frequency_cereal\",\"educational_attainment\",\"sewage_type\",\"n_bedrooms\",\"indicator_for_fuel_for_cooking_deprivation_True\",\"own_tv\",\"spending_clothes\",\"meals_per_day\",\"indicator_for_electricity_services_deprivation_True\",\"indicator_for_fuel_for_cooking_deprivation_2\",\"receives_support_sedesol_3x1_2\",\"own_washing_machine\",\"gender\",\"own_water_tank\",\"type_of_locality_U\",\"receives_support_sedesol_prospera_2015_in_prosp\",\"dirt_where_sleep_or_cook_False\"]\n",
    "imp_features2 = [\"estimated_income\",\"own_climate_control\",\"actual_age_as_of_16_dec_2015\",\"spending_food\",\"own_stove\",\"type_of_locality_0\",\"food_frequency_vegetables\",\"roof_material\",\"food_frequency_sugars\",\"food_frequency_milk\",\"food_frequency_fruit\",\"n_rooms\",\"food_frequency_meat\",\"water_source\",\"food_frequency_legumes\",\"own_refridgerator\",\"toilet\",\"wall_material\",\"family_relation\",\"dwelling_situation\",\"sewage_type\",\"educational_attainment\",\"marital_status\",\"marital_status\",\"food_frequency_cereal\",\"type_of_locality_U\",\"n_bedrooms\",\"own_cell_phone\",\"meals_per_day\",\"spending_clothes\",\"own_tv\",\"program_id_0\",\"gender\",\"light_source\",\"indicator_for_electricity_services_deprivation_False\",\"receives_support_sedesol_prospera_2015_in_prosp\",\"own_washing_machine\",\"program_id_U005\",\"own_water_tank\",\"indicator_for_fuel_for_cooking_deprivation_True\",\"program_id_S072\"]\n",
    "imp_features3 = [\"estimated_income\",\"actual_age_as_of_16_dec_2015\",\"own_climate_control\",\"own_stove\",\"n_rooms\",\"marital_status\",\"marital_status\",\"program_id_2\",\"important_locality_id_0.0\",\"program_id_S072\",\"program_id_U005\",\"important_locality_id_10947.0\",\"program_id_S118\",\"program_id_S038\",\"important_locality_id_9636.0\",\"important_locality_id_6879.0\",\"important_locality_id_9754.0\",\"important_locality_id_2379.0\",\"important_locality_id_6294.0\",\"important_locality_id_9728.0\",\"program_id_S052\",\"important_locality_id_4905.0\",\"important_locality_id_12424.0\",\"important_locality_id_7312.0\",\"important_locality_id_8200.0\",\"important_locality_id_3736.0\",\"important_locality_id_1341.0\",\"important_locality_id_2514.0\",\"important_locality_id_3699.0\",\"important_locality_id_4778.0\",\"important_locality_id_160.0\",\"important_locality_id_2071.0\",\"important_locality_id_3705.0\",\"important_locality_id_112.0\",\"program_id_S071\",\"important_locality_id_167.0\",\"important_locality_id_3054.0\",\"important_locality_id_856.0\",\"important_locality_id_843.0\",\"program_id_S176\"]\n",
    "imp_features4 = [\"own_climate_control\",\"own_stove\",\"n_rooms\",\"roof_material\",\"water_source\",\"wall_material\",\"light_source\",\"toilet\",\"sewage_type\",\"n_bedrooms\",\"own_refridgerator\",\"own_internet_22\",\"own_cell_phone\",\"dirt_where_sleep_or_cook_22\",\"own_tv\",\"cook_sleep_same_room_22\",\"floor_material\",\"own_washing_machine\",\"own_water_tank\",\"own_vhs\",\"own_microwave\",\"own_vehicle\",\"own_tv_service\",\"own_telephone\",\"toilet_exclusively_residents_True\",\"own_boiler\",\"toilet_exclusively_residents_False\",\"own_internet_ \",\"dirt_where_sleep_or_cook_False\",\"dirt_where_sleep_or_cook_True\",\"cook_sleep_same_room_False\",\"cook_sleep_same_room_True\",\"toilet_exclusively_residents_22\",\"own_internet_22\",\"own_computer\",\"own_internet_11\",\"own_internet_12\",\"cook_sleep_same_room_nan\",\"dirt_where_sleep_or_cook_nan\",\"toilet_exclusively_residents_nan\",\"own_internet_nan\"]\n",
    "imp_features5 = ['own_climate_control', 'estimated_income', 'spending_food', 'p_total', 'actual_age_as_of_16_dec_2015', 'state_id', 'state_of_birth_key', 'indece_de_rezago_social', 'own_stove', 'process_id_20141209646288113412', 'food_frequency_milk', 'food_frequency_fruit', 'n_rooms', 'food_frequency_vegetables', 'roof_material', 'food_frequency_meat', 'food_frequency_sugars', 'food_frequency_legumes', 'number_of_benefits', 'n_bedrooms', 'benefit_description', 'toilet', 'own_cell_phone', 'water_source', 'own_refridgerator', 'marital_status', 'trash_type', 'n_chickens', 'family_relation', 'process_type', 'meals_per_day', 'home_payment', 'beneficiary_type', 'income_self_reported', 'wall_material', 'payment_entity_15', 'cooking_fuel', 'sewage_type', 'gender', 'spending_clothes']\n",
    "\n",
    "df_expanded_w_response = pd.concat([df_expanded[imp_features2],labels],axis=1)\n",
    "\n",
    "plt.clf()\n",
    "#fig.set_size_inches(18.5, 10.5, forward=True)\n",
    "saveto = \"/Users/dolano/Desktop/figs/var_importance_\"\n",
    "\n",
    "\n",
    "#pl.set_size_inches(18.5, 10.5, forward=True)\n",
    "\n",
    "i = 1\n",
    "\n",
    "for ife in imp_features:\n",
    "    #do histograms for continuous variables and do bubble plots for categorical/binary ones\n",
    "    if ife in ints:\n",
    "        ty = \"num\"\n",
    "        df_expanded_w_response[ife].hist(by=df_expanded_w_response['has_discrepancy'])\n",
    "        pl.suptitle( \"numeric: %s\" % ife )\n",
    "    else:\n",
    "        ty = \"cat\"\n",
    "        df_expanded_w_response[ife].hist(by=df_expanded_w_response['has_discrepancy'])\n",
    "        pl.suptitle( \"categorical/bin: %s\" % ife)  \n",
    "    \n",
    "    pl.savefig(saveto +  str(i) + \"_\" + ty + \"_\" + ife, dpi=100 )\n",
    "    i = i + 1"
   ]
  }
 ],
 "metadata": {
  "anaconda-cloud": {},
  "kernelspec": {
   "display_name": "Python [Root]",
   "language": "python",
   "name": "Python [Root]"
  },
  "language_info": {
   "codemirror_mode": {
    "name": "ipython",
    "version": 3
   },
   "file_extension": ".py",
   "mimetype": "text/x-python",
   "name": "python",
   "nbconvert_exporter": "python",
   "pygments_lexer": "ipython3",
   "version": "3.5.2"
  }
 },
 "nbformat": 4,
 "nbformat_minor": 0
}
